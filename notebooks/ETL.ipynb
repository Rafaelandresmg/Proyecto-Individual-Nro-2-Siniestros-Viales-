{
 "cells": [
  {
   "cell_type": "markdown",
   "id": "2c83e165",
   "metadata": {},
   "source": [
    "# ETL (Extract, Load, Transform)"
   ]
  },
  {
   "cell_type": "markdown",
   "id": "0309e511",
   "metadata": {},
   "source": [
    "En el doloroso escenario de la realidad argentina, donde anualmente se despiden cerca de 4.000 vidas en siniestros viales, nuestro viaje comienza con una misión fundamental: transformar datos en entendimiento, desvelar los mensajes implícitos y, sobre todo, contribuir a la reducción de tragedias en sus carreteras.\n",
    "\n",
    "En éste proceso de ETL nos embarcaremos en la tarea de explorar dos archivos en formato Excel, testigos silenciosos de eventos trágicos: **'homicidios.xlsx'** y **'lesiones.xlsx'**. Cada hoja de trabajo, ya sea en homicidios (HECHOS y VICTIMAS) o lesiones (HECHOS y VICTIMAS), guarda consigo relatos que claman por ser desentrañados.\n",
    "\n",
    "Este notebook no es meramente código; es una odisea de descubrimiento, un esfuerzo meticuloso para revelar los secretos que se ocultan en los datos crudos. Nos sumergiremos en cada fila, exploraremos cada columna, y extraeremos la esencia que yace en cada celda. La transformación de información cruda en conocimiento es la brújula que nos guía hacia la comprensión y, más importante aún, hacia la acción para mitigar las pérdidas humanas en las carreteras de la Ciudad de Buenos Aires."
   ]
  },
  {
   "cell_type": "markdown",
   "id": "256f5220",
   "metadata": {},
   "source": [
    "## 1. Importar Librerías"
   ]
  },
  {
   "cell_type": "code",
   "execution_count": 67,
   "id": "fd5ad48b",
   "metadata": {},
   "outputs": [],
   "source": [
    "import pandas as pd\n",
    "import numpy as np\n",
    "import seaborn as sns\n",
    "import matplotlib.pyplot as plt\n",
    "from functions import cargar_datos_desde_excel\n",
    "from functions import data_cleaning\n",
    "from functions import analizar_valores_sd"
   ]
  },
  {
   "cell_type": "markdown",
   "id": "9631d0e5",
   "metadata": {},
   "source": [
    "## 2. Cargar Datos"
   ]
  },
  {
   "cell_type": "code",
   "execution_count": 68,
   "id": "ad4ca555",
   "metadata": {},
   "outputs": [],
   "source": [
    "# Invoca la función 'cargar_datos_desde_excel'\n",
    "\n",
    "datos_homicidios = cargar_datos_desde_excel('homicidios.xlsx', ['HECHOS', 'VICTIMAS'])\n",
    "datos_lesiones = cargar_datos_desde_excel('lesiones.xlsx', ['HECHOS', 'VICTIMAS'])"
   ]
  },
  {
   "cell_type": "markdown",
   "id": "6f5786c6",
   "metadata": {},
   "source": [
    "## 3. Explorar y limpiar datos"
   ]
  },
  {
   "cell_type": "markdown",
   "id": "512667c8",
   "metadata": {},
   "source": [
    "### 3.1. Dataset: Homicidios - Hechos"
   ]
  },
  {
   "cell_type": "code",
   "execution_count": 69,
   "id": "e08b59de",
   "metadata": {},
   "outputs": [],
   "source": [
    "# Acceder al DataFrame por nombre de hoja, Homicidios - Hechos\n",
    "\n",
    "h_hechos_df = datos_homicidios['HECHOS']"
   ]
  },
  {
   "cell_type": "code",
   "execution_count": 70,
   "id": "479eea33",
   "metadata": {},
   "outputs": [
    {
     "name": "stdout",
     "output_type": "stream",
     "text": [
      "Original DataFrame:\n"
     ]
    },
    {
     "data": {
      "text/html": [
       "<div>\n",
       "<style scoped>\n",
       "    .dataframe tbody tr th:only-of-type {\n",
       "        vertical-align: middle;\n",
       "    }\n",
       "\n",
       "    .dataframe tbody tr th {\n",
       "        vertical-align: top;\n",
       "    }\n",
       "\n",
       "    .dataframe thead th {\n",
       "        text-align: right;\n",
       "    }\n",
       "</style>\n",
       "<table border=\"1\" class=\"dataframe\">\n",
       "  <thead>\n",
       "    <tr style=\"text-align: right;\">\n",
       "      <th></th>\n",
       "      <th>ID</th>\n",
       "      <th>N_VICTIMAS</th>\n",
       "      <th>FECHA</th>\n",
       "      <th>AAAA</th>\n",
       "      <th>MM</th>\n",
       "      <th>DD</th>\n",
       "      <th>HORA</th>\n",
       "      <th>HH</th>\n",
       "      <th>LUGAR_DEL_HECHO</th>\n",
       "      <th>TIPO_DE_CALLE</th>\n",
       "      <th>...</th>\n",
       "      <th>Altura</th>\n",
       "      <th>Cruce</th>\n",
       "      <th>Dirección Normalizada</th>\n",
       "      <th>COMUNA</th>\n",
       "      <th>XY (CABA)</th>\n",
       "      <th>pos x</th>\n",
       "      <th>pos y</th>\n",
       "      <th>PARTICIPANTES</th>\n",
       "      <th>VICTIMA</th>\n",
       "      <th>ACUSADO</th>\n",
       "    </tr>\n",
       "  </thead>\n",
       "  <tbody>\n",
       "    <tr>\n",
       "      <th>0</th>\n",
       "      <td>2016-0001</td>\n",
       "      <td>1</td>\n",
       "      <td>2016-01-01</td>\n",
       "      <td>2016</td>\n",
       "      <td>1</td>\n",
       "      <td>1</td>\n",
       "      <td>04:00:00</td>\n",
       "      <td>4</td>\n",
       "      <td>AV PIEDRA BUENA Y AV FERNANDEZ DE LA CRUZ</td>\n",
       "      <td>AVENIDA</td>\n",
       "      <td>...</td>\n",
       "      <td>NaN</td>\n",
       "      <td>FERNANDEZ DE LA CRUZ, F., GRAL. AV.</td>\n",
       "      <td>PIEDRA BUENA AV. y FERNANDEZ DE LA CRUZ, F., G...</td>\n",
       "      <td>8</td>\n",
       "      <td>Point (98896.78238426 93532.43437792)</td>\n",
       "      <td>-58.47533969</td>\n",
       "      <td>-34.68757022</td>\n",
       "      <td>MOTO-AUTO</td>\n",
       "      <td>MOTO</td>\n",
       "      <td>AUTO</td>\n",
       "    </tr>\n",
       "    <tr>\n",
       "      <th>1</th>\n",
       "      <td>2016-0002</td>\n",
       "      <td>1</td>\n",
       "      <td>2016-01-02</td>\n",
       "      <td>2016</td>\n",
       "      <td>1</td>\n",
       "      <td>2</td>\n",
       "      <td>01:15:00</td>\n",
       "      <td>1</td>\n",
       "      <td>AV GRAL PAZ  Y AV DE LOS CORRALES</td>\n",
       "      <td>GRAL PAZ</td>\n",
       "      <td>...</td>\n",
       "      <td>NaN</td>\n",
       "      <td>DE LOS CORRALES AV.</td>\n",
       "      <td>PAZ, GRAL. AV. y DE LOS CORRALES AV.</td>\n",
       "      <td>9</td>\n",
       "      <td>Point (95832.05571093 95505.41641999)</td>\n",
       "      <td>-58.50877521</td>\n",
       "      <td>-34.66977709</td>\n",
       "      <td>AUTO-PASAJEROS</td>\n",
       "      <td>AUTO</td>\n",
       "      <td>PASAJEROS</td>\n",
       "    </tr>\n",
       "    <tr>\n",
       "      <th>2</th>\n",
       "      <td>2016-0003</td>\n",
       "      <td>1</td>\n",
       "      <td>2016-01-03</td>\n",
       "      <td>2016</td>\n",
       "      <td>1</td>\n",
       "      <td>3</td>\n",
       "      <td>07:00:00</td>\n",
       "      <td>7</td>\n",
       "      <td>AV ENTRE RIOS 2034</td>\n",
       "      <td>AVENIDA</td>\n",
       "      <td>...</td>\n",
       "      <td>2034.0</td>\n",
       "      <td>NaN</td>\n",
       "      <td>ENTRE RIOS AV. 2034</td>\n",
       "      <td>1</td>\n",
       "      <td>Point (106684.29090040 99706.57687843)</td>\n",
       "      <td>-58.39040293</td>\n",
       "      <td>-34.63189362</td>\n",
       "      <td>MOTO-AUTO</td>\n",
       "      <td>MOTO</td>\n",
       "      <td>AUTO</td>\n",
       "    </tr>\n",
       "  </tbody>\n",
       "</table>\n",
       "<p>3 rows × 21 columns</p>\n",
       "</div>"
      ],
      "text/plain": [
       "          ID  N_VICTIMAS      FECHA  AAAA  MM  DD      HORA HH  \\\n",
       "0  2016-0001           1 2016-01-01  2016   1   1  04:00:00  4   \n",
       "1  2016-0002           1 2016-01-02  2016   1   2  01:15:00  1   \n",
       "2  2016-0003           1 2016-01-03  2016   1   3  07:00:00  7   \n",
       "\n",
       "                             LUGAR_DEL_HECHO TIPO_DE_CALLE  ...  Altura  \\\n",
       "0  AV PIEDRA BUENA Y AV FERNANDEZ DE LA CRUZ       AVENIDA  ...     NaN   \n",
       "1          AV GRAL PAZ  Y AV DE LOS CORRALES      GRAL PAZ  ...     NaN   \n",
       "2                         AV ENTRE RIOS 2034       AVENIDA  ...  2034.0   \n",
       "\n",
       "                                 Cruce  \\\n",
       "0  FERNANDEZ DE LA CRUZ, F., GRAL. AV.   \n",
       "1                  DE LOS CORRALES AV.   \n",
       "2                                  NaN   \n",
       "\n",
       "                               Dirección Normalizada COMUNA  \\\n",
       "0  PIEDRA BUENA AV. y FERNANDEZ DE LA CRUZ, F., G...      8   \n",
       "1               PAZ, GRAL. AV. y DE LOS CORRALES AV.      9   \n",
       "2                                ENTRE RIOS AV. 2034      1   \n",
       "\n",
       "                                XY (CABA)         pos x         pos y  \\\n",
       "0   Point (98896.78238426 93532.43437792)  -58.47533969  -34.68757022   \n",
       "1   Point (95832.05571093 95505.41641999)  -58.50877521  -34.66977709   \n",
       "2  Point (106684.29090040 99706.57687843)  -58.39040293  -34.63189362   \n",
       "\n",
       "    PARTICIPANTES VICTIMA    ACUSADO  \n",
       "0       MOTO-AUTO    MOTO       AUTO  \n",
       "1  AUTO-PASAJEROS    AUTO  PASAJEROS  \n",
       "2       MOTO-AUTO    MOTO       AUTO  \n",
       "\n",
       "[3 rows x 21 columns]"
      ]
     },
     "execution_count": 70,
     "metadata": {},
     "output_type": "execute_result"
    }
   ],
   "source": [
    "# Visualiza las primeras filas del Dataframe\n",
    "\n",
    "print(\"Original DataFrame:\")\n",
    "h_hechos_df.head(3)"
   ]
  },
  {
   "cell_type": "code",
   "execution_count": 71,
   "id": "9facb438",
   "metadata": {},
   "outputs": [
    {
     "name": "stdout",
     "output_type": "stream",
     "text": [
      "<class 'pandas.core.frame.DataFrame'>\n",
      "RangeIndex: 696 entries, 0 to 695\n",
      "Data columns (total 21 columns):\n",
      " #   Column                 Non-Null Count  Dtype         \n",
      "---  ------                 --------------  -----         \n",
      " 0   ID                     696 non-null    object        \n",
      " 1   N_VICTIMAS             696 non-null    int64         \n",
      " 2   FECHA                  696 non-null    datetime64[ns]\n",
      " 3   AAAA                   696 non-null    int64         \n",
      " 4   MM                     696 non-null    int64         \n",
      " 5   DD                     696 non-null    int64         \n",
      " 6   HORA                   696 non-null    object        \n",
      " 7   HH                     696 non-null    object        \n",
      " 8   LUGAR_DEL_HECHO        696 non-null    object        \n",
      " 9   TIPO_DE_CALLE          696 non-null    object        \n",
      " 10  Calle                  695 non-null    object        \n",
      " 11  Altura                 129 non-null    float64       \n",
      " 12  Cruce                  525 non-null    object        \n",
      " 13  Dirección Normalizada  688 non-null    object        \n",
      " 14  COMUNA                 696 non-null    int64         \n",
      " 15  XY (CABA)              696 non-null    object        \n",
      " 16  pos x                  696 non-null    object        \n",
      " 17  pos y                  696 non-null    object        \n",
      " 18  PARTICIPANTES          696 non-null    object        \n",
      " 19  VICTIMA                696 non-null    object        \n",
      " 20  ACUSADO                696 non-null    object        \n",
      "dtypes: datetime64[ns](1), float64(1), int64(5), object(14)\n",
      "memory usage: 114.3+ KB\n"
     ]
    }
   ],
   "source": [
    "# Obtener información general del DataFrame\n",
    "\n",
    "h_hechos_df.info()"
   ]
  },
  {
   "cell_type": "markdown",
   "id": "cd3bc827",
   "metadata": {},
   "source": [
    "Tras verificar el diccionario de datos, identificamos que los valores \"SD\" corresponden a \"Sin datos\". Por consiguiente, tomamos la decisión de cambiar estos valores a NaN para estandarizar."
   ]
  },
  {
   "cell_type": "code",
   "execution_count": 72,
   "id": "cf870dbd",
   "metadata": {},
   "outputs": [
    {
     "data": {
      "text/html": [
       "<div>\n",
       "<style scoped>\n",
       "    .dataframe tbody tr th:only-of-type {\n",
       "        vertical-align: middle;\n",
       "    }\n",
       "\n",
       "    .dataframe tbody tr th {\n",
       "        vertical-align: top;\n",
       "    }\n",
       "\n",
       "    .dataframe thead th {\n",
       "        text-align: right;\n",
       "    }\n",
       "</style>\n",
       "<table border=\"1\" class=\"dataframe\">\n",
       "  <thead>\n",
       "    <tr style=\"text-align: right;\">\n",
       "      <th></th>\n",
       "      <th>Columna</th>\n",
       "      <th>Cantidad de SD</th>\n",
       "      <th>Porcentaje de SD</th>\n",
       "    </tr>\n",
       "  </thead>\n",
       "  <tbody>\n",
       "    <tr>\n",
       "      <th>6</th>\n",
       "      <td>HORA</td>\n",
       "      <td>1</td>\n",
       "      <td>0.143678</td>\n",
       "    </tr>\n",
       "    <tr>\n",
       "      <th>7</th>\n",
       "      <td>HH</td>\n",
       "      <td>1</td>\n",
       "      <td>0.143678</td>\n",
       "    </tr>\n",
       "    <tr>\n",
       "      <th>8</th>\n",
       "      <td>LUGAR_DEL_HECHO</td>\n",
       "      <td>1</td>\n",
       "      <td>0.143678</td>\n",
       "    </tr>\n",
       "    <tr>\n",
       "      <th>19</th>\n",
       "      <td>VICTIMA</td>\n",
       "      <td>9</td>\n",
       "      <td>1.293103</td>\n",
       "    </tr>\n",
       "    <tr>\n",
       "      <th>20</th>\n",
       "      <td>ACUSADO</td>\n",
       "      <td>23</td>\n",
       "      <td>3.304598</td>\n",
       "    </tr>\n",
       "  </tbody>\n",
       "</table>\n",
       "</div>"
      ],
      "text/plain": [
       "            Columna  Cantidad de SD  Porcentaje de SD\n",
       "6              HORA               1          0.143678\n",
       "7                HH               1          0.143678\n",
       "8   LUGAR_DEL_HECHO               1          0.143678\n",
       "19          VICTIMA               9          1.293103\n",
       "20          ACUSADO              23          3.304598"
      ]
     },
     "execution_count": 72,
     "metadata": {},
     "output_type": "execute_result"
    }
   ],
   "source": [
    "# Invoca la función 'analizar_valores_sd'\n",
    "\n",
    "resultados_h_hechos = analizar_valores_sd(h_hechos_df)\n",
    "resultados_h_hechos"
   ]
  },
  {
   "cell_type": "code",
   "execution_count": 73,
   "id": "9dcbcc75",
   "metadata": {},
   "outputs": [],
   "source": [
    "# Reemplazar 'SD' por NaN en todo el DataFrame\n",
    "\n",
    "h_hechos_df.replace(['SD','sd'], np.nan, inplace=True)"
   ]
  },
  {
   "cell_type": "code",
   "execution_count": 74,
   "id": "a7442476",
   "metadata": {},
   "outputs": [],
   "source": [
    "# Iniciamos la preparación de los diccionarios y listas que alimentaran la función 'data_cleaning' "
   ]
  },
  {
   "cell_type": "code",
   "execution_count": 75,
   "id": "9de2889e",
   "metadata": {},
   "outputs": [],
   "source": [
    "# Columnas para pasar a minúcula\n",
    "\n",
    "columns_to_lower = ['TIPO_DE_CALLE', 'VICTIMA', 'ACUSADO']"
   ]
  },
  {
   "cell_type": "markdown",
   "id": "2a8ff12c",
   "metadata": {},
   "source": [
    "Convertir todos los datos a minúsculas evita posibles problemas de coincidencia y simplificas las operaciones de búsqueda y filtrado."
   ]
  },
  {
   "cell_type": "code",
   "execution_count": 76,
   "id": "f234d263",
   "metadata": {},
   "outputs": [],
   "source": [
    "# Columnas para eliminar\n",
    "\n",
    "columns_to_drop = ['AAAA', 'MM', 'DD', 'HORA', 'LUGAR_DEL_HECHO','Calle','Altura',\n",
    "                   'Cruce','Dirección Normalizada','XY (CABA)','PARTICIPANTES']"
   ]
  },
  {
   "cell_type": "markdown",
   "id": "60eaee25",
   "metadata": {},
   "source": [
    "Decidimos eliminar las columnas 'AAAA', 'MM', y 'DD' del conjunto de datos, ya que la información de fecha ya está presente en la columna 'FECHA'. Esta decisión simplifica el conjunto de datos, mantiene una estructura más consistente y estandarizada, ahorra espacio y facilita el análisis temporal.\n",
    "\n",
    "Asimismo, eliminamos la columna 'HORA' debido a la redundancia de la información de hora, que ya está contenida en la columna 'HH'. Esta elección nos proporciona una visión más general y simplificada de la distribución de los siniestros a lo largo del día. \n",
    "\n",
    "Las columnas 'LUGAR_DEL_HECHO','Calle','Altura','Cruce' y 'Dirección Normalizada' implicaban datos de la dirección del hecho incluso, 'XY (CABA)' que contenía coordenadas en formato de proyección cartesiana también fue eliminada. Preferimos trabajar con las columnas de **latitud y longitud** por su mayor intuición, no tiene datos nulos, familiaridad para la mayoría de las personas, facilidad de representación gráfica en mapas y conformidad con estándares de sistemas de información geográfica (SIG).\n",
    "\n",
    "La columna 'PARTICIPANTES' contenia información concatenada redundante de 'VICTIMA' y 'ACUSADO', así que se mantuvieron éstas dos últimas."
   ]
  },
  {
   "cell_type": "code",
   "execution_count": 77,
   "id": "61c5f7db",
   "metadata": {},
   "outputs": [],
   "source": [
    "# Renombrar columnas\n",
    "\n",
    "rename_dict = {'ID': 'id_siniestro', 'N_VICTIMAS': 'nro_victimas', 'FECHA': 'fecha', 'HH': 'franja_hora',\n",
    "               'TIPO_DE_CALLE': 'tipo_calle', 'COMUNA': 'comuna', 'pos x': 'longitud', 'pos y': 'latitud',\n",
    "               'VICTIMA': 'vehiculo_victima', 'ACUSADO': 'vehiculo_acusado'}"
   ]
  },
  {
   "cell_type": "markdown",
   "id": "d2150d25",
   "metadata": {},
   "source": [
    "Renombramos columnas para mejorar la claridad y legibilidad del conjunto de datos."
   ]
  },
  {
   "cell_type": "code",
   "execution_count": 78,
   "id": "3026f6d3",
   "metadata": {},
   "outputs": [],
   "source": [
    "# Convertir a entero\n",
    "\n",
    "columns_to_int = [ 'nro_victimas', 'franja_hora', 'comuna']"
   ]
  },
  {
   "cell_type": "code",
   "execution_count": 79,
   "id": "e7cdde98",
   "metadata": {},
   "outputs": [],
   "source": [
    "# Categorización de columnas\n",
    "\n",
    "columns_to_categorize = ['franja_hora', 'tipo_calle', 'comuna', 'vehiculo_victima', 'vehiculo_acusado']"
   ]
  },
  {
   "cell_type": "markdown",
   "id": "392a351f",
   "metadata": {},
   "source": [
    "Al convertir columnas con un conjunto limitado de valores a categorías, se puede facilitar el análisis exploratorio de datos y la comprensión de las distribuciones de esos valores."
   ]
  },
  {
   "cell_type": "code",
   "execution_count": 80,
   "id": "00a9f917",
   "metadata": {},
   "outputs": [],
   "source": [
    "# Invocamos la función 'data_cleaning' para que haga el proceso de limpieza de los datos \n",
    "\n",
    "h_hechos_dfcleaned = data_cleaning(h_hechos_df,\n",
    "                                    strip_spaces=True, # Eliminar espacios en blanco\n",
    "                                    lowercase_columns=columns_to_lower, # Convertir a minúsculas                                    \n",
    "                                    drop_columns=columns_to_drop,  # Eliminar columnas\n",
    "                                    rename_columns=rename_dict,  # Renombrar columnas\n",
    "                                    convert_to_int_columns=columns_to_int, #Conversión entero\n",
    "                                    categorize_columns=columns_to_categorize # Categorizar columnas\n",
    "                                   )"
   ]
  },
  {
   "cell_type": "markdown",
   "id": "97b6ead1",
   "metadata": {},
   "source": [
    "En el conjunto de datos tenemos dos registros con comuna valor 0. Para este registro '2016-0174' se tenía la calle y, con ésta logramos obtener comuna, longitud y latitud . Para el caso del registro '2016-0151' no tuvimos la misma suerte, por lo cual buscamos el siniestro más cercano '2016-0155' que haya ocurrido también en una calle y le imputamos el mismo valor a las columnas comuna, longitud y latitud. Por la mínima cantidad de registros no vimos necesario hacer uso de alguna api, obtuvimos los datos consultando esta web https://www.comollegara.com/direccion-a-lat-long.html?lugar=autopista%2025%20de%20mayo%20buenos%20aires."
   ]
  },
  {
   "cell_type": "code",
   "execution_count": 81,
   "id": "f59d420d",
   "metadata": {},
   "outputs": [],
   "source": [
    "# Reemplazar valores\n",
    "\n",
    "# Definir los registros que deseas reemplazar\n",
    "registros_a_reemplazar = [\n",
    "    {'id_siniestro': '2016-0174', 'comuna': 7, 'longitud': -58.369529920, 'latitud': -34.622472560}, # Comunas 0 \n",
    "    {'id_siniestro': '2016-0151', 'comuna': 10, 'longitud': -58.52756365, 'latitud': -34.62772274}, # Comunas 0 \n",
    "    {'id_siniestro': '2018-0039', 'comuna': 14, 'longitud': -58.457579360, 'latitud': -34.538957930}, #sin longitud/latitud\n",
    "    {'id_siniestro': '2020-0026', 'comuna': 14, 'longitud': -58.457579360, 'latitud': -34.538957930}, #sin longitud/latitud  \n",
    "    {'id_siniestro': '2017-0042', 'comuna': 14, 'longitud': -58.457579360, 'latitud': -34.538957930}, #sin longitud/latitud  \n",
    "    {'id_siniestro': '2017-0050', 'comuna': 9, 'longitud': -58.481800300, 'latitud': -34.647005340}, #sin longitud/latitud\n",
    "    {'id_siniestro': '2017-0051', 'comuna': 7, 'longitud': -58.479447760, 'latitud': -34.678121010}, #sin longitud/latitud      \n",
    "    {'id_siniestro': '2017-0140', 'comuna': 4, 'longitud': -58.380781350, 'latitud': -34.622364700}, #sin longitud/latitud\n",
    "    {'id_siniestro': '2020-0039', 'comuna': 9, 'longitud': -58.483096200, 'latitud': -34.671405150}, #sin longitud/latitud   \n",
    "    {'id_siniestro': '2021-0023', 'comuna': 4, 'longitud': -58.364905600, 'latitud': -34.622974220}, #sin longitud/latitud  \n",
    "    {'id_siniestro': '2016-0052', 'comuna': 13, 'longitud': -58.457579360, 'latitud': -34.538957930}, #sin longitud/latitud   \n",
    "    {'id_siniestro': '2016-0136', 'comuna': 4, 'longitud': -58.363401550, 'latitud': -34.624371200}, #sin longitud/latitud  \n",
    "] \n",
    "\n",
    "# Iterar sobre los registros y realizar el reemplazo\n",
    "for registro in registros_a_reemplazar:\n",
    "    id_siniestro = registro['id_siniestro']\n",
    "    comuna = registro['comuna']\n",
    "    longitud = registro['longitud']\n",
    "    latitud = registro['latitud']\n",
    "\n",
    "    # Utilizar loc para reemplazar los valores específicos\n",
    "    h_hechos_dfcleaned.loc[h_hechos_dfcleaned['id_siniestro'] == id_siniestro, 'comuna'] = comuna\n",
    "    h_hechos_dfcleaned.loc[h_hechos_dfcleaned['id_siniestro'] == id_siniestro, 'longitud'] = longitud\n",
    "    h_hechos_dfcleaned.loc[h_hechos_dfcleaned['id_siniestro'] == id_siniestro, 'latitud'] = latitud"
   ]
  },
  {
   "cell_type": "code",
   "execution_count": 82,
   "id": "15baa726",
   "metadata": {},
   "outputs": [
    {
     "name": "stdout",
     "output_type": "stream",
     "text": [
      "\n",
      "Cleaned DataFrame:\n"
     ]
    },
    {
     "data": {
      "text/html": [
       "<div>\n",
       "<style scoped>\n",
       "    .dataframe tbody tr th:only-of-type {\n",
       "        vertical-align: middle;\n",
       "    }\n",
       "\n",
       "    .dataframe tbody tr th {\n",
       "        vertical-align: top;\n",
       "    }\n",
       "\n",
       "    .dataframe thead th {\n",
       "        text-align: right;\n",
       "    }\n",
       "</style>\n",
       "<table border=\"1\" class=\"dataframe\">\n",
       "  <thead>\n",
       "    <tr style=\"text-align: right;\">\n",
       "      <th></th>\n",
       "      <th>id_siniestro</th>\n",
       "      <th>nro_victimas</th>\n",
       "      <th>fecha</th>\n",
       "      <th>franja_hora</th>\n",
       "      <th>tipo_calle</th>\n",
       "      <th>comuna</th>\n",
       "      <th>longitud</th>\n",
       "      <th>latitud</th>\n",
       "      <th>vehiculo_victima</th>\n",
       "      <th>vehiculo_acusado</th>\n",
       "    </tr>\n",
       "  </thead>\n",
       "  <tbody>\n",
       "    <tr>\n",
       "      <th>0</th>\n",
       "      <td>2016-0001</td>\n",
       "      <td>1</td>\n",
       "      <td>2016-01-01</td>\n",
       "      <td>4</td>\n",
       "      <td>avenida</td>\n",
       "      <td>8</td>\n",
       "      <td>-58.47533969</td>\n",
       "      <td>-34.68757022</td>\n",
       "      <td>moto</td>\n",
       "      <td>auto</td>\n",
       "    </tr>\n",
       "    <tr>\n",
       "      <th>1</th>\n",
       "      <td>2016-0002</td>\n",
       "      <td>1</td>\n",
       "      <td>2016-01-02</td>\n",
       "      <td>1</td>\n",
       "      <td>gral paz</td>\n",
       "      <td>9</td>\n",
       "      <td>-58.50877521</td>\n",
       "      <td>-34.66977709</td>\n",
       "      <td>auto</td>\n",
       "      <td>pasajeros</td>\n",
       "    </tr>\n",
       "    <tr>\n",
       "      <th>2</th>\n",
       "      <td>2016-0003</td>\n",
       "      <td>1</td>\n",
       "      <td>2016-01-03</td>\n",
       "      <td>7</td>\n",
       "      <td>avenida</td>\n",
       "      <td>1</td>\n",
       "      <td>-58.39040293</td>\n",
       "      <td>-34.63189362</td>\n",
       "      <td>moto</td>\n",
       "      <td>auto</td>\n",
       "    </tr>\n",
       "    <tr>\n",
       "      <th>3</th>\n",
       "      <td>2016-0004</td>\n",
       "      <td>1</td>\n",
       "      <td>2016-01-10</td>\n",
       "      <td>0</td>\n",
       "      <td>avenida</td>\n",
       "      <td>8</td>\n",
       "      <td>-58.46503904</td>\n",
       "      <td>-34.68092974</td>\n",
       "      <td>moto</td>\n",
       "      <td>NaN</td>\n",
       "    </tr>\n",
       "    <tr>\n",
       "      <th>4</th>\n",
       "      <td>2016-0005</td>\n",
       "      <td>1</td>\n",
       "      <td>2016-01-21</td>\n",
       "      <td>5</td>\n",
       "      <td>avenida</td>\n",
       "      <td>1</td>\n",
       "      <td>-58.38718297</td>\n",
       "      <td>-34.62246630</td>\n",
       "      <td>moto</td>\n",
       "      <td>pasajeros</td>\n",
       "    </tr>\n",
       "  </tbody>\n",
       "</table>\n",
       "</div>"
      ],
      "text/plain": [
       "  id_siniestro  nro_victimas      fecha  franja_hora tipo_calle  comuna  \\\n",
       "0    2016-0001             1 2016-01-01            4    avenida       8   \n",
       "1    2016-0002             1 2016-01-02            1   gral paz       9   \n",
       "2    2016-0003             1 2016-01-03            7    avenida       1   \n",
       "3    2016-0004             1 2016-01-10            0    avenida       8   \n",
       "4    2016-0005             1 2016-01-21            5    avenida       1   \n",
       "\n",
       "       longitud       latitud vehiculo_victima vehiculo_acusado  \n",
       "0  -58.47533969  -34.68757022             moto             auto  \n",
       "1  -58.50877521  -34.66977709             auto        pasajeros  \n",
       "2  -58.39040293  -34.63189362             moto             auto  \n",
       "3  -58.46503904  -34.68092974             moto              NaN  \n",
       "4  -58.38718297  -34.62246630             moto        pasajeros  "
      ]
     },
     "execution_count": 82,
     "metadata": {},
     "output_type": "execute_result"
    }
   ],
   "source": [
    "print(\"\\nCleaned DataFrame:\")\n",
    "h_hechos_dfcleaned.head()"
   ]
  },
  {
   "cell_type": "markdown",
   "id": "11902f2e",
   "metadata": {},
   "source": [
    "--------------------------------------------------------------------------------------------------------------------------------"
   ]
  },
  {
   "cell_type": "markdown",
   "id": "69a44ebb",
   "metadata": {},
   "source": [
    "### 3.2. Dataset: Homicidios - Víctimas"
   ]
  },
  {
   "cell_type": "code",
   "execution_count": 83,
   "id": "dce49544",
   "metadata": {},
   "outputs": [],
   "source": [
    "# Acceder al DataFrame por nombre de hoja, Homicidios - Víctimas\n",
    "\n",
    "h_victimas_df = datos_homicidios['VICTIMAS']"
   ]
  },
  {
   "cell_type": "code",
   "execution_count": 84,
   "id": "5976b4ba",
   "metadata": {},
   "outputs": [
    {
     "name": "stdout",
     "output_type": "stream",
     "text": [
      "Original DataFrame:\n"
     ]
    },
    {
     "data": {
      "text/html": [
       "<div>\n",
       "<style scoped>\n",
       "    .dataframe tbody tr th:only-of-type {\n",
       "        vertical-align: middle;\n",
       "    }\n",
       "\n",
       "    .dataframe tbody tr th {\n",
       "        vertical-align: top;\n",
       "    }\n",
       "\n",
       "    .dataframe thead th {\n",
       "        text-align: right;\n",
       "    }\n",
       "</style>\n",
       "<table border=\"1\" class=\"dataframe\">\n",
       "  <thead>\n",
       "    <tr style=\"text-align: right;\">\n",
       "      <th></th>\n",
       "      <th>ID_hecho</th>\n",
       "      <th>FECHA</th>\n",
       "      <th>AAAA</th>\n",
       "      <th>MM</th>\n",
       "      <th>DD</th>\n",
       "      <th>ROL</th>\n",
       "      <th>VICTIMA</th>\n",
       "      <th>SEXO</th>\n",
       "      <th>EDAD</th>\n",
       "      <th>FECHA_FALLECIMIENTO</th>\n",
       "    </tr>\n",
       "  </thead>\n",
       "  <tbody>\n",
       "    <tr>\n",
       "      <th>0</th>\n",
       "      <td>2016-0001</td>\n",
       "      <td>2016-01-01</td>\n",
       "      <td>2016</td>\n",
       "      <td>1</td>\n",
       "      <td>1</td>\n",
       "      <td>CONDUCTOR</td>\n",
       "      <td>MOTO</td>\n",
       "      <td>MASCULINO</td>\n",
       "      <td>19</td>\n",
       "      <td>2016-01-01 00:00:00</td>\n",
       "    </tr>\n",
       "    <tr>\n",
       "      <th>1</th>\n",
       "      <td>2016-0002</td>\n",
       "      <td>2016-01-02</td>\n",
       "      <td>2016</td>\n",
       "      <td>1</td>\n",
       "      <td>2</td>\n",
       "      <td>CONDUCTOR</td>\n",
       "      <td>AUTO</td>\n",
       "      <td>MASCULINO</td>\n",
       "      <td>70</td>\n",
       "      <td>2016-01-02 00:00:00</td>\n",
       "    </tr>\n",
       "    <tr>\n",
       "      <th>2</th>\n",
       "      <td>2016-0003</td>\n",
       "      <td>2016-01-03</td>\n",
       "      <td>2016</td>\n",
       "      <td>1</td>\n",
       "      <td>3</td>\n",
       "      <td>CONDUCTOR</td>\n",
       "      <td>MOTO</td>\n",
       "      <td>MASCULINO</td>\n",
       "      <td>30</td>\n",
       "      <td>2016-01-03 00:00:00</td>\n",
       "    </tr>\n",
       "  </tbody>\n",
       "</table>\n",
       "</div>"
      ],
      "text/plain": [
       "    ID_hecho      FECHA  AAAA  MM  DD        ROL VICTIMA       SEXO EDAD  \\\n",
       "0  2016-0001 2016-01-01  2016   1   1  CONDUCTOR    MOTO  MASCULINO   19   \n",
       "1  2016-0002 2016-01-02  2016   1   2  CONDUCTOR    AUTO  MASCULINO   70   \n",
       "2  2016-0003 2016-01-03  2016   1   3  CONDUCTOR    MOTO  MASCULINO   30   \n",
       "\n",
       "   FECHA_FALLECIMIENTO  \n",
       "0  2016-01-01 00:00:00  \n",
       "1  2016-01-02 00:00:00  \n",
       "2  2016-01-03 00:00:00  "
      ]
     },
     "execution_count": 84,
     "metadata": {},
     "output_type": "execute_result"
    }
   ],
   "source": [
    "# Visualiza las primeras filas del Dataframe\n",
    "\n",
    "print(\"Original DataFrame:\")\n",
    "h_victimas_df.head(3)"
   ]
  },
  {
   "cell_type": "code",
   "execution_count": 85,
   "id": "0f187bd8",
   "metadata": {},
   "outputs": [
    {
     "name": "stdout",
     "output_type": "stream",
     "text": [
      "<class 'pandas.core.frame.DataFrame'>\n",
      "RangeIndex: 717 entries, 0 to 716\n",
      "Data columns (total 10 columns):\n",
      " #   Column               Non-Null Count  Dtype         \n",
      "---  ------               --------------  -----         \n",
      " 0   ID_hecho             717 non-null    object        \n",
      " 1   FECHA                717 non-null    datetime64[ns]\n",
      " 2   AAAA                 717 non-null    int64         \n",
      " 3   MM                   717 non-null    int64         \n",
      " 4   DD                   717 non-null    int64         \n",
      " 5   ROL                  717 non-null    object        \n",
      " 6   VICTIMA              717 non-null    object        \n",
      " 7   SEXO                 717 non-null    object        \n",
      " 8   EDAD                 717 non-null    object        \n",
      " 9   FECHA_FALLECIMIENTO  717 non-null    object        \n",
      "dtypes: datetime64[ns](1), int64(3), object(6)\n",
      "memory usage: 56.1+ KB\n"
     ]
    }
   ],
   "source": [
    "# Obtener información general del DataFrame\n",
    "\n",
    "h_victimas_df.info()"
   ]
  },
  {
   "cell_type": "markdown",
   "id": "6b5a62ed",
   "metadata": {},
   "source": [
    "Tras verificar el diccionario de datos, identificamos que los valores \"SD\" corresponden a \"Sin datos\". Por consiguiente, tomamos la decisión de cambiar estos valores a NaN para estandarizar."
   ]
  },
  {
   "cell_type": "code",
   "execution_count": 86,
   "id": "d9dd69ff",
   "metadata": {},
   "outputs": [
    {
     "data": {
      "text/html": [
       "<div>\n",
       "<style scoped>\n",
       "    .dataframe tbody tr th:only-of-type {\n",
       "        vertical-align: middle;\n",
       "    }\n",
       "\n",
       "    .dataframe tbody tr th {\n",
       "        vertical-align: top;\n",
       "    }\n",
       "\n",
       "    .dataframe thead th {\n",
       "        text-align: right;\n",
       "    }\n",
       "</style>\n",
       "<table border=\"1\" class=\"dataframe\">\n",
       "  <thead>\n",
       "    <tr style=\"text-align: right;\">\n",
       "      <th></th>\n",
       "      <th>Columna</th>\n",
       "      <th>Cantidad de SD</th>\n",
       "      <th>Porcentaje de SD</th>\n",
       "    </tr>\n",
       "  </thead>\n",
       "  <tbody>\n",
       "    <tr>\n",
       "      <th>5</th>\n",
       "      <td>ROL</td>\n",
       "      <td>11</td>\n",
       "      <td>1.534170</td>\n",
       "    </tr>\n",
       "    <tr>\n",
       "      <th>6</th>\n",
       "      <td>VICTIMA</td>\n",
       "      <td>9</td>\n",
       "      <td>1.255230</td>\n",
       "    </tr>\n",
       "    <tr>\n",
       "      <th>7</th>\n",
       "      <td>SEXO</td>\n",
       "      <td>6</td>\n",
       "      <td>0.836820</td>\n",
       "    </tr>\n",
       "    <tr>\n",
       "      <th>8</th>\n",
       "      <td>EDAD</td>\n",
       "      <td>53</td>\n",
       "      <td>7.391911</td>\n",
       "    </tr>\n",
       "    <tr>\n",
       "      <th>9</th>\n",
       "      <td>FECHA_FALLECIMIENTO</td>\n",
       "      <td>68</td>\n",
       "      <td>9.483961</td>\n",
       "    </tr>\n",
       "  </tbody>\n",
       "</table>\n",
       "</div>"
      ],
      "text/plain": [
       "               Columna  Cantidad de SD  Porcentaje de SD\n",
       "5                  ROL              11          1.534170\n",
       "6              VICTIMA               9          1.255230\n",
       "7                 SEXO               6          0.836820\n",
       "8                 EDAD              53          7.391911\n",
       "9  FECHA_FALLECIMIENTO              68          9.483961"
      ]
     },
     "execution_count": 86,
     "metadata": {},
     "output_type": "execute_result"
    }
   ],
   "source": [
    "# Invoca la función 'analizar_valores_sd'\n",
    "\n",
    "resultados_h_victimas = analizar_valores_sd(h_victimas_df)\n",
    "resultados_h_victimas"
   ]
  },
  {
   "cell_type": "code",
   "execution_count": 87,
   "id": "2c784d1f",
   "metadata": {},
   "outputs": [],
   "source": [
    "# Reemplazar 'SD' por NaN en todo el DataFrame\n",
    "\n",
    "h_victimas_df.replace(['SD','sd'], np.nan, inplace=True)"
   ]
  },
  {
   "cell_type": "code",
   "execution_count": 88,
   "id": "a3a71e8c",
   "metadata": {},
   "outputs": [],
   "source": [
    "# Iniciamos la preparación de los diccionarios y listas que alimentaran la función 'data_cleaning' "
   ]
  },
  {
   "cell_type": "code",
   "execution_count": 89,
   "id": "c11b2a1b",
   "metadata": {},
   "outputs": [],
   "source": [
    "# Columnas para pasar a minúcula\n",
    "\n",
    "columns_to_lower = ['SEXO','ROL']"
   ]
  },
  {
   "cell_type": "markdown",
   "id": "5cfd1625",
   "metadata": {},
   "source": [
    "Convertir todos los datos a minúsculas evita posibles problemas de coincidencia y simplificas las operaciones de búsqueda y filtrado."
   ]
  },
  {
   "cell_type": "code",
   "execution_count": 90,
   "id": "d2601632",
   "metadata": {},
   "outputs": [],
   "source": [
    "# Columnas para eliminar\n",
    "\n",
    "columns_to_drop = ['FECHA','AAAA', 'MM', 'DD', 'FECHA_FALLECIMIENTO', 'VICTIMA']"
   ]
  },
  {
   "cell_type": "markdown",
   "id": "36b79aa7",
   "metadata": {},
   "source": [
    "Las columnas que decidimos eliminar nos parecen irrelevantes para nuestro análisis. Algunas de ellas se complementan con los datos de la hoja 'HECHO'"
   ]
  },
  {
   "cell_type": "code",
   "execution_count": 91,
   "id": "3bedee55",
   "metadata": {},
   "outputs": [],
   "source": [
    "# Renombrar columnas\n",
    "\n",
    "rename_dict = {'ID_hecho': 'id_siniestro', 'SEXO': 'sexo',\n",
    "               'EDAD': 'edad', 'ROL': 'rol'}"
   ]
  },
  {
   "cell_type": "markdown",
   "id": "f7027247",
   "metadata": {},
   "source": [
    "Renombramos columnas para mejorar la claridad y legibilidad del conjunto de datos."
   ]
  },
  {
   "cell_type": "code",
   "execution_count": 92,
   "id": "ba94f643",
   "metadata": {},
   "outputs": [],
   "source": [
    "# Convertir a entero\n",
    "\n",
    "columns_to_int = ['edad']"
   ]
  },
  {
   "cell_type": "code",
   "execution_count": 93,
   "id": "a52a4124",
   "metadata": {},
   "outputs": [],
   "source": [
    "# Columnas para ser agregadas\n",
    "\n",
    "new_columns_dict = {'gravedad': 'fatal'}"
   ]
  },
  {
   "cell_type": "code",
   "execution_count": 94,
   "id": "58e70578",
   "metadata": {},
   "outputs": [],
   "source": [
    "# Invocamos la función 'data_cleaning' para que haga el proceso de limpieza de los datos \n",
    "\n",
    "h_victimas_dfcleaned = data_cleaning(h_victimas_df,\n",
    "                                    strip_spaces=True, # Eliminar espacios en blanco\n",
    "                                    lowercase_columns=columns_to_lower, # Convertir a minúsculas                                    \n",
    "                                    drop_columns=columns_to_drop,  # Eliminar columnas\n",
    "                                    rename_columns=rename_dict,  # Renombrar columnas \n",
    "                                    convert_to_int_columns=columns_to_int, #Conversión entero\n",
    "                                    new_columns=new_columns_dict, # Agregar columnas\n",
    "                                    )"
   ]
  },
  {
   "cell_type": "code",
   "execution_count": 95,
   "id": "8b7b8bd8",
   "metadata": {},
   "outputs": [],
   "source": [
    "# Categorización de columnas\n",
    "\n",
    "columns_to_categorize = ['sexo','edad','gravedad','rol']\n",
    "h_victimas_dfcleaned = data_cleaning(h_victimas_dfcleaned, categorize_columns=columns_to_categorize) "
   ]
  },
  {
   "cell_type": "markdown",
   "id": "3c7c9954",
   "metadata": {},
   "source": [
    "Al convertir columnas con un conjunto limitado de valores a categorías, se puede facilitar el análisis exploratorio de datos y la comprensión de las distribuciones de esos valores."
   ]
  },
  {
   "cell_type": "code",
   "execution_count": 96,
   "id": "a2c4a5c5",
   "metadata": {},
   "outputs": [
    {
     "name": "stdout",
     "output_type": "stream",
     "text": [
      "\n",
      "Cleaned DataFrame:\n"
     ]
    },
    {
     "data": {
      "text/html": [
       "<div>\n",
       "<style scoped>\n",
       "    .dataframe tbody tr th:only-of-type {\n",
       "        vertical-align: middle;\n",
       "    }\n",
       "\n",
       "    .dataframe tbody tr th {\n",
       "        vertical-align: top;\n",
       "    }\n",
       "\n",
       "    .dataframe thead th {\n",
       "        text-align: right;\n",
       "    }\n",
       "</style>\n",
       "<table border=\"1\" class=\"dataframe\">\n",
       "  <thead>\n",
       "    <tr style=\"text-align: right;\">\n",
       "      <th></th>\n",
       "      <th>id_siniestro</th>\n",
       "      <th>rol</th>\n",
       "      <th>sexo</th>\n",
       "      <th>edad</th>\n",
       "      <th>gravedad</th>\n",
       "    </tr>\n",
       "  </thead>\n",
       "  <tbody>\n",
       "    <tr>\n",
       "      <th>0</th>\n",
       "      <td>2016-0001</td>\n",
       "      <td>conductor</td>\n",
       "      <td>masculino</td>\n",
       "      <td>19</td>\n",
       "      <td>fatal</td>\n",
       "    </tr>\n",
       "    <tr>\n",
       "      <th>1</th>\n",
       "      <td>2016-0002</td>\n",
       "      <td>conductor</td>\n",
       "      <td>masculino</td>\n",
       "      <td>70</td>\n",
       "      <td>fatal</td>\n",
       "    </tr>\n",
       "    <tr>\n",
       "      <th>2</th>\n",
       "      <td>2016-0003</td>\n",
       "      <td>conductor</td>\n",
       "      <td>masculino</td>\n",
       "      <td>30</td>\n",
       "      <td>fatal</td>\n",
       "    </tr>\n",
       "    <tr>\n",
       "      <th>3</th>\n",
       "      <td>2016-0004</td>\n",
       "      <td>conductor</td>\n",
       "      <td>masculino</td>\n",
       "      <td>18</td>\n",
       "      <td>fatal</td>\n",
       "    </tr>\n",
       "    <tr>\n",
       "      <th>4</th>\n",
       "      <td>2016-0005</td>\n",
       "      <td>conductor</td>\n",
       "      <td>masculino</td>\n",
       "      <td>29</td>\n",
       "      <td>fatal</td>\n",
       "    </tr>\n",
       "  </tbody>\n",
       "</table>\n",
       "</div>"
      ],
      "text/plain": [
       "  id_siniestro        rol       sexo edad gravedad\n",
       "0    2016-0001  conductor  masculino   19    fatal\n",
       "1    2016-0002  conductor  masculino   70    fatal\n",
       "2    2016-0003  conductor  masculino   30    fatal\n",
       "3    2016-0004  conductor  masculino   18    fatal\n",
       "4    2016-0005  conductor  masculino   29    fatal"
      ]
     },
     "execution_count": 96,
     "metadata": {},
     "output_type": "execute_result"
    }
   ],
   "source": [
    "print(\"\\nCleaned DataFrame:\")\n",
    "h_victimas_dfcleaned.head()"
   ]
  },
  {
   "cell_type": "markdown",
   "id": "2080e5db",
   "metadata": {},
   "source": [
    "--------------------------------------------------------------------------------------------------------------------------------"
   ]
  },
  {
   "cell_type": "markdown",
   "id": "80e3e326",
   "metadata": {},
   "source": [
    "### 3.3. Dataset: Lesiones - Hechos"
   ]
  },
  {
   "cell_type": "code",
   "execution_count": 97,
   "id": "f391b6ec",
   "metadata": {},
   "outputs": [],
   "source": [
    "# Acceder al DataFrame por nombre de hoja, Lesiones - Hechos\n",
    "\n",
    "l_hechos_df = datos_lesiones['HECHOS']"
   ]
  },
  {
   "cell_type": "code",
   "execution_count": 98,
   "id": "328f0a81",
   "metadata": {},
   "outputs": [
    {
     "name": "stdout",
     "output_type": "stream",
     "text": [
      "Original DataFrame:\n"
     ]
    },
    {
     "data": {
      "text/html": [
       "<div>\n",
       "<style scoped>\n",
       "    .dataframe tbody tr th:only-of-type {\n",
       "        vertical-align: middle;\n",
       "    }\n",
       "\n",
       "    .dataframe tbody tr th {\n",
       "        vertical-align: top;\n",
       "    }\n",
       "\n",
       "    .dataframe thead th {\n",
       "        text-align: right;\n",
       "    }\n",
       "</style>\n",
       "<table border=\"1\" class=\"dataframe\">\n",
       "  <thead>\n",
       "    <tr style=\"text-align: right;\">\n",
       "      <th></th>\n",
       "      <th>id</th>\n",
       "      <th>n_victimas</th>\n",
       "      <th>aaaa</th>\n",
       "      <th>mm</th>\n",
       "      <th>dd</th>\n",
       "      <th>fecha</th>\n",
       "      <th>hora</th>\n",
       "      <th>franja_hora</th>\n",
       "      <th>direccion_normalizada</th>\n",
       "      <th>comuna</th>\n",
       "      <th>...</th>\n",
       "      <th>latutid</th>\n",
       "      <th>victima</th>\n",
       "      <th>acusado</th>\n",
       "      <th>participantes</th>\n",
       "      <th>moto</th>\n",
       "      <th>auto</th>\n",
       "      <th>transporte_publico</th>\n",
       "      <th>camion</th>\n",
       "      <th>ciclista</th>\n",
       "      <th>gravedad</th>\n",
       "    </tr>\n",
       "  </thead>\n",
       "  <tbody>\n",
       "    <tr>\n",
       "      <th>0</th>\n",
       "      <td>LC-2019-0000179</td>\n",
       "      <td>1</td>\n",
       "      <td>2019</td>\n",
       "      <td>1</td>\n",
       "      <td>1</td>\n",
       "      <td>2019-01-01 00:00:00</td>\n",
       "      <td>09:00:00</td>\n",
       "      <td>9</td>\n",
       "      <td>SD</td>\n",
       "      <td>14</td>\n",
       "      <td>...</td>\n",
       "      <td>-34.559658</td>\n",
       "      <td>CICLISTA</td>\n",
       "      <td>SD</td>\n",
       "      <td>CICLISTA-SD</td>\n",
       "      <td>SD</td>\n",
       "      <td>SD</td>\n",
       "      <td>SD</td>\n",
       "      <td>SD</td>\n",
       "      <td>x</td>\n",
       "      <td>SD</td>\n",
       "    </tr>\n",
       "    <tr>\n",
       "      <th>1</th>\n",
       "      <td>LC-2019-0000053</td>\n",
       "      <td>1</td>\n",
       "      <td>2019</td>\n",
       "      <td>1</td>\n",
       "      <td>1</td>\n",
       "      <td>2019-01-01 00:00:00</td>\n",
       "      <td>01:55:00</td>\n",
       "      <td>1</td>\n",
       "      <td>SD</td>\n",
       "      <td>8</td>\n",
       "      <td>...</td>\n",
       "      <td>-34.669125</td>\n",
       "      <td>AUTO</td>\n",
       "      <td>SD</td>\n",
       "      <td>AUTO-SD</td>\n",
       "      <td>SD</td>\n",
       "      <td>x</td>\n",
       "      <td>SD</td>\n",
       "      <td>SD</td>\n",
       "      <td>SD</td>\n",
       "      <td>SD</td>\n",
       "    </tr>\n",
       "    <tr>\n",
       "      <th>2</th>\n",
       "      <td>LC-2019-0000063</td>\n",
       "      <td>1</td>\n",
       "      <td>2019</td>\n",
       "      <td>1</td>\n",
       "      <td>1</td>\n",
       "      <td>2019-01-01 00:00:00</td>\n",
       "      <td>02:00:00</td>\n",
       "      <td>2</td>\n",
       "      <td>SD</td>\n",
       "      <td>8</td>\n",
       "      <td>...</td>\n",
       "      <td>-34.677556</td>\n",
       "      <td>SD</td>\n",
       "      <td>SD</td>\n",
       "      <td>SD-SD</td>\n",
       "      <td>SD</td>\n",
       "      <td>SD</td>\n",
       "      <td>SD</td>\n",
       "      <td>SD</td>\n",
       "      <td>SD</td>\n",
       "      <td>SD</td>\n",
       "    </tr>\n",
       "  </tbody>\n",
       "</table>\n",
       "<p>3 rows × 27 columns</p>\n",
       "</div>"
      ],
      "text/plain": [
       "                id  n_victimas  aaaa  mm  dd                fecha      hora  \\\n",
       "0  LC-2019-0000179           1  2019   1   1  2019-01-01 00:00:00  09:00:00   \n",
       "1  LC-2019-0000053           1  2019   1   1  2019-01-01 00:00:00  01:55:00   \n",
       "2  LC-2019-0000063           1  2019   1   1  2019-01-01 00:00:00  02:00:00   \n",
       "\n",
       "  franja_hora direccion_normalizada comuna  ...     latutid   victima acusado  \\\n",
       "0           9                    SD     14  ...  -34.559658  CICLISTA      SD   \n",
       "1           1                    SD      8  ...  -34.669125      AUTO      SD   \n",
       "2           2                    SD      8  ...  -34.677556        SD      SD   \n",
       "\n",
       "   participantes moto auto transporte_publico camion ciclista gravedad  \n",
       "0    CICLISTA-SD   SD   SD                 SD     SD        x       SD  \n",
       "1        AUTO-SD   SD    x                 SD     SD       SD       SD  \n",
       "2          SD-SD   SD   SD                 SD     SD       SD       SD  \n",
       "\n",
       "[3 rows x 27 columns]"
      ]
     },
     "execution_count": 98,
     "metadata": {},
     "output_type": "execute_result"
    }
   ],
   "source": [
    "# Visualiza las primeras filas del Dataframe\n",
    "\n",
    "print(\"Original DataFrame:\")\n",
    "l_hechos_df.head(3)"
   ]
  },
  {
   "cell_type": "code",
   "execution_count": 99,
   "id": "9d6fb6f9",
   "metadata": {},
   "outputs": [
    {
     "name": "stdout",
     "output_type": "stream",
     "text": [
      "<class 'pandas.core.frame.DataFrame'>\n",
      "RangeIndex: 23785 entries, 0 to 23784\n",
      "Data columns (total 27 columns):\n",
      " #   Column                 Non-Null Count  Dtype  \n",
      "---  ------                 --------------  -----  \n",
      " 0   id                     23785 non-null  object \n",
      " 1   n_victimas             23785 non-null  int64  \n",
      " 2   aaaa                   23785 non-null  int64  \n",
      " 3   mm                     23785 non-null  int64  \n",
      " 4   dd                     23785 non-null  int64  \n",
      " 5   fecha                  23785 non-null  object \n",
      " 6   hora                   23785 non-null  object \n",
      " 7   franja_hora            23780 non-null  object \n",
      " 8   direccion_normalizada  23732 non-null  object \n",
      " 9   comuna                 23616 non-null  object \n",
      " 10  tipo_calle             23785 non-null  object \n",
      " 11  otra_direccion         23785 non-null  object \n",
      " 12  calle                  12867 non-null  object \n",
      " 13  altura                 12771 non-null  float64\n",
      " 14  cruce                  9407 non-null   object \n",
      " 15  geocodificacion_CABA   23746 non-null  object \n",
      " 16  longitud               23523 non-null  object \n",
      " 17  latutid                23523 non-null  object \n",
      " 18  victima                23785 non-null  object \n",
      " 19  acusado                23785 non-null  object \n",
      " 20  participantes          23785 non-null  object \n",
      " 21  moto                   23692 non-null  object \n",
      " 22  auto                   23692 non-null  object \n",
      " 23  transporte_publico     23692 non-null  object \n",
      " 24  camion                 23692 non-null  object \n",
      " 25  ciclista               23692 non-null  object \n",
      " 26  gravedad               23785 non-null  object \n",
      "dtypes: float64(1), int64(4), object(22)\n",
      "memory usage: 4.9+ MB\n"
     ]
    }
   ],
   "source": [
    "# Obtener información general del DataFrame\n",
    "\n",
    "l_hechos_df.info()"
   ]
  },
  {
   "cell_type": "markdown",
   "id": "ff94beab",
   "metadata": {},
   "source": [
    "Tras verificar el diccionario de datos, identificamos que los valores \"SD\" corresponden a \"Sin datos\". Por consiguiente, tomamos la decisión de cambiar estos valores a NaN para estandarizar."
   ]
  },
  {
   "cell_type": "code",
   "execution_count": 100,
   "id": "85017764",
   "metadata": {},
   "outputs": [
    {
     "data": {
      "text/html": [
       "<div>\n",
       "<style scoped>\n",
       "    .dataframe tbody tr th:only-of-type {\n",
       "        vertical-align: middle;\n",
       "    }\n",
       "\n",
       "    .dataframe tbody tr th {\n",
       "        vertical-align: top;\n",
       "    }\n",
       "\n",
       "    .dataframe thead th {\n",
       "        text-align: right;\n",
       "    }\n",
       "</style>\n",
       "<table border=\"1\" class=\"dataframe\">\n",
       "  <thead>\n",
       "    <tr style=\"text-align: right;\">\n",
       "      <th></th>\n",
       "      <th>Columna</th>\n",
       "      <th>Cantidad de SD</th>\n",
       "      <th>Porcentaje de SD</th>\n",
       "    </tr>\n",
       "  </thead>\n",
       "  <tbody>\n",
       "    <tr>\n",
       "      <th>6</th>\n",
       "      <td>hora</td>\n",
       "      <td>4</td>\n",
       "      <td>0.016817</td>\n",
       "    </tr>\n",
       "    <tr>\n",
       "      <th>8</th>\n",
       "      <td>direccion_normalizada</td>\n",
       "      <td>10815</td>\n",
       "      <td>45.469834</td>\n",
       "    </tr>\n",
       "    <tr>\n",
       "      <th>9</th>\n",
       "      <td>comuna</td>\n",
       "      <td>846</td>\n",
       "      <td>3.556864</td>\n",
       "    </tr>\n",
       "    <tr>\n",
       "      <th>10</th>\n",
       "      <td>tipo_calle</td>\n",
       "      <td>11045</td>\n",
       "      <td>46.436830</td>\n",
       "    </tr>\n",
       "    <tr>\n",
       "      <th>11</th>\n",
       "      <td>otra_direccion</td>\n",
       "      <td>18295</td>\n",
       "      <td>76.918226</td>\n",
       "    </tr>\n",
       "    <tr>\n",
       "      <th>15</th>\n",
       "      <td>geocodificacion_CABA</td>\n",
       "      <td>1213</td>\n",
       "      <td>5.099853</td>\n",
       "    </tr>\n",
       "    <tr>\n",
       "      <th>16</th>\n",
       "      <td>longitud</td>\n",
       "      <td>1209</td>\n",
       "      <td>5.083036</td>\n",
       "    </tr>\n",
       "    <tr>\n",
       "      <th>17</th>\n",
       "      <td>latutid</td>\n",
       "      <td>1209</td>\n",
       "      <td>5.083036</td>\n",
       "    </tr>\n",
       "    <tr>\n",
       "      <th>18</th>\n",
       "      <td>victima</td>\n",
       "      <td>10733</td>\n",
       "      <td>45.125079</td>\n",
       "    </tr>\n",
       "    <tr>\n",
       "      <th>19</th>\n",
       "      <td>acusado</td>\n",
       "      <td>15288</td>\n",
       "      <td>64.275804</td>\n",
       "    </tr>\n",
       "    <tr>\n",
       "      <th>21</th>\n",
       "      <td>moto</td>\n",
       "      <td>8511</td>\n",
       "      <td>35.783057</td>\n",
       "    </tr>\n",
       "    <tr>\n",
       "      <th>22</th>\n",
       "      <td>auto</td>\n",
       "      <td>12543</td>\n",
       "      <td>52.734917</td>\n",
       "    </tr>\n",
       "    <tr>\n",
       "      <th>23</th>\n",
       "      <td>transporte_publico</td>\n",
       "      <td>11801</td>\n",
       "      <td>49.615304</td>\n",
       "    </tr>\n",
       "    <tr>\n",
       "      <th>24</th>\n",
       "      <td>camion</td>\n",
       "      <td>12708</td>\n",
       "      <td>53.428631</td>\n",
       "    </tr>\n",
       "    <tr>\n",
       "      <th>25</th>\n",
       "      <td>ciclista</td>\n",
       "      <td>11353</td>\n",
       "      <td>47.731764</td>\n",
       "    </tr>\n",
       "    <tr>\n",
       "      <th>26</th>\n",
       "      <td>gravedad</td>\n",
       "      <td>23056</td>\n",
       "      <td>96.935043</td>\n",
       "    </tr>\n",
       "  </tbody>\n",
       "</table>\n",
       "</div>"
      ],
      "text/plain": [
       "                  Columna  Cantidad de SD  Porcentaje de SD\n",
       "6                    hora               4          0.016817\n",
       "8   direccion_normalizada           10815         45.469834\n",
       "9                  comuna             846          3.556864\n",
       "10             tipo_calle           11045         46.436830\n",
       "11         otra_direccion           18295         76.918226\n",
       "15   geocodificacion_CABA            1213          5.099853\n",
       "16               longitud            1209          5.083036\n",
       "17                latutid            1209          5.083036\n",
       "18                victima           10733         45.125079\n",
       "19                acusado           15288         64.275804\n",
       "21                   moto            8511         35.783057\n",
       "22                   auto           12543         52.734917\n",
       "23     transporte_publico           11801         49.615304\n",
       "24                 camion           12708         53.428631\n",
       "25               ciclista           11353         47.731764\n",
       "26               gravedad           23056         96.935043"
      ]
     },
     "execution_count": 100,
     "metadata": {},
     "output_type": "execute_result"
    }
   ],
   "source": [
    "# Invoca la función 'analizar_valores_sd'\n",
    "\n",
    "resultados_l_hechos = analizar_valores_sd(l_hechos_df)\n",
    "resultados_l_hechos"
   ]
  },
  {
   "cell_type": "code",
   "execution_count": 101,
   "id": "6733ec05",
   "metadata": {},
   "outputs": [],
   "source": [
    "# Reemplazar 'SD' por NaN en todo el DataFrame\n",
    "\n",
    "l_hechos_df.replace(['SD','sd'], np.nan, inplace=True)"
   ]
  },
  {
   "cell_type": "code",
   "execution_count": 102,
   "id": "852cb441",
   "metadata": {},
   "outputs": [],
   "source": [
    "# Iniciamos la preparación de los diccionarios y listas que alimentaran la función 'data_cleaning' "
   ]
  },
  {
   "cell_type": "code",
   "execution_count": 103,
   "id": "daa506e3",
   "metadata": {},
   "outputs": [],
   "source": [
    "# Columnas para pasar a minúcula\n",
    "\n",
    "columns_to_lower = ['tipo_calle', 'victima', 'acusado', 'gravedad']"
   ]
  },
  {
   "cell_type": "markdown",
   "id": "f20bbd50",
   "metadata": {},
   "source": [
    "Convertir todos los datos a minúsculas evita posibles problemas de coincidencia y simplificas las operaciones de búsqueda y filtrado."
   ]
  },
  {
   "cell_type": "code",
   "execution_count": 104,
   "id": "a16dc7db",
   "metadata": {},
   "outputs": [],
   "source": [
    "# Columnas para eliminar\n",
    "\n",
    "columns_to_drop = ['aaaa','mm', 'dd', 'hora', 'direccion_normalizada', 'otra_direccion', 'calle', 'altura', 'cruce',\n",
    "                   'participantes', 'geocodificacion_CABA', 'moto', 'auto', 'transporte_publico', 'camion', 'ciclista']"
   ]
  },
  {
   "cell_type": "code",
   "execution_count": 105,
   "id": "279e2bf9",
   "metadata": {},
   "outputs": [],
   "source": [
    "# Reemplazar valores nulos por otros valores\n",
    "\n",
    "fill_na_dict = {'gravedad': 'leve'}"
   ]
  },
  {
   "cell_type": "markdown",
   "id": "9b57bc2d",
   "metadata": {},
   "source": [
    "Sobre la gravedad de las lesiones provocadas, según diccionario de datos a efectos analíticos, los casos sin datos se corresponden con una alta probabilidad a casos leves."
   ]
  },
  {
   "cell_type": "code",
   "execution_count": 106,
   "id": "59ec1934",
   "metadata": {},
   "outputs": [],
   "source": [
    "# Renombrar columnas\n",
    "\n",
    "rename_dict = {'id': 'id_siniestro', 'n_victimas': 'nro_victimas',\n",
    "               'latutid': 'latitud', 'victima': 'vehiculo_victima', 'acusado': 'vehiculo_acusado'}"
   ]
  },
  {
   "cell_type": "markdown",
   "id": "56ff11cb",
   "metadata": {},
   "source": [
    "Renombramos columnas para mejorar la claridad y legibilidad del conjunto de datos."
   ]
  },
  {
   "cell_type": "code",
   "execution_count": 107,
   "id": "9d55604c",
   "metadata": {},
   "outputs": [
    {
     "data": {
      "text/html": [
       "<div>\n",
       "<style scoped>\n",
       "    .dataframe tbody tr th:only-of-type {\n",
       "        vertical-align: middle;\n",
       "    }\n",
       "\n",
       "    .dataframe tbody tr th {\n",
       "        vertical-align: top;\n",
       "    }\n",
       "\n",
       "    .dataframe thead th {\n",
       "        text-align: right;\n",
       "    }\n",
       "</style>\n",
       "<table border=\"1\" class=\"dataframe\">\n",
       "  <thead>\n",
       "    <tr style=\"text-align: right;\">\n",
       "      <th></th>\n",
       "      <th>id</th>\n",
       "      <th>n_victimas</th>\n",
       "      <th>aaaa</th>\n",
       "      <th>mm</th>\n",
       "      <th>dd</th>\n",
       "      <th>fecha</th>\n",
       "      <th>hora</th>\n",
       "      <th>franja_hora</th>\n",
       "      <th>direccion_normalizada</th>\n",
       "      <th>comuna</th>\n",
       "      <th>...</th>\n",
       "      <th>latutid</th>\n",
       "      <th>victima</th>\n",
       "      <th>acusado</th>\n",
       "      <th>participantes</th>\n",
       "      <th>moto</th>\n",
       "      <th>auto</th>\n",
       "      <th>transporte_publico</th>\n",
       "      <th>camion</th>\n",
       "      <th>ciclista</th>\n",
       "      <th>gravedad</th>\n",
       "    </tr>\n",
       "  </thead>\n",
       "  <tbody>\n",
       "    <tr>\n",
       "      <th>9928</th>\n",
       "      <td>PNA-2019-0005246</td>\n",
       "      <td>0</td>\n",
       "      <td>2019</td>\n",
       "      <td>12</td>\n",
       "      <td>20</td>\n",
       "      <td>2019-12-20 00:00:00</td>\n",
       "      <td>NaN</td>\n",
       "      <td>NaN</td>\n",
       "      <td>27 DE FEBRERO AV. 6300</td>\n",
       "      <td>NaN</td>\n",
       "      <td>...</td>\n",
       "      <td>NaN</td>\n",
       "      <td>NaN</td>\n",
       "      <td>NaN</td>\n",
       "      <td>SD-SD</td>\n",
       "      <td>NaN</td>\n",
       "      <td>NaN</td>\n",
       "      <td>NaN</td>\n",
       "      <td>NaN</td>\n",
       "      <td>NaN</td>\n",
       "      <td>NaN</td>\n",
       "    </tr>\n",
       "  </tbody>\n",
       "</table>\n",
       "<p>1 rows × 27 columns</p>\n",
       "</div>"
      ],
      "text/plain": [
       "                    id  n_victimas  aaaa  mm  dd                fecha hora  \\\n",
       "9928  PNA-2019-0005246           0  2019  12  20  2019-12-20 00:00:00  NaN   \n",
       "\n",
       "      franja_hora   direccion_normalizada comuna  ... latutid victima acusado  \\\n",
       "9928          NaN  27 DE FEBRERO AV. 6300    NaN  ...     NaN     NaN     NaN   \n",
       "\n",
       "      participantes moto auto transporte_publico camion ciclista gravedad  \n",
       "9928          SD-SD  NaN  NaN                NaN    NaN      NaN      NaN  \n",
       "\n",
       "[1 rows x 27 columns]"
      ]
     },
     "execution_count": 107,
     "metadata": {},
     "output_type": "execute_result"
    }
   ],
   "source": [
    "# Confirmo la existencia de valor igual a 0 en nro_victimas\n",
    "\n",
    "registros_nro_victimas_0 = l_hechos_df[l_hechos_df['n_victimas'] == 0]\n",
    "registros_nro_victimas_0"
   ]
  },
  {
   "cell_type": "markdown",
   "id": "51695f46",
   "metadata": {},
   "source": [
    "Para lo que corresponde al hecho, no hay mayores detalles en el registro resultante con victimas 0 casi todas sus columnas se encuentran con valores NaN ; sin embargo, al consultar las victimas en el archivo lesiones.xlsx (hoja victima que será tratada más adelante) se evidencia que se trató de una mujer de 33 años por lo cual procedo a reemplazar el valor por 1."
   ]
  },
  {
   "cell_type": "code",
   "execution_count": 108,
   "id": "f2e1c48a",
   "metadata": {},
   "outputs": [],
   "source": [
    "# Reemplazar valores en columnas\n",
    "\n",
    "values_to_replace = {'comuna': {'No Especificada': np.nan},\n",
    "                     'nro_victimas': {0: 1}\n",
    "                    }"
   ]
  },
  {
   "cell_type": "code",
   "execution_count": 109,
   "id": "42f9397f",
   "metadata": {},
   "outputs": [],
   "source": [
    "# Convertir a flotante\n",
    "\n",
    "columns_to_float = [ 'latitud', 'longitud']"
   ]
  },
  {
   "cell_type": "code",
   "execution_count": 110,
   "id": "edefaa17",
   "metadata": {},
   "outputs": [],
   "source": [
    "# Convertir a entero\n",
    "\n",
    "columns_to_int = [ 'nro_victimas', 'franja_hora', 'comuna']"
   ]
  },
  {
   "cell_type": "code",
   "execution_count": 111,
   "id": "bcd8ae9a",
   "metadata": {},
   "outputs": [],
   "source": [
    "# Categorización de columnas\n",
    "\n",
    "columns_to_categorize = ['franja_hora', 'tipo_calle', 'comuna', 'vehiculo_victima', 'vehiculo_acusado', 'gravedad']"
   ]
  },
  {
   "cell_type": "markdown",
   "id": "3157eb53",
   "metadata": {},
   "source": [
    "Al convertir columnas con un conjunto limitado de valores a categorías, se puede facilitar el análisis exploratorio de datos y la comprensión de las distribuciones de esos valores."
   ]
  },
  {
   "cell_type": "code",
   "execution_count": 112,
   "id": "e74fab15",
   "metadata": {},
   "outputs": [],
   "source": [
    "# Invocamos la función 'data_cleaning' para que haga el proceso de limpieza de los datos \n",
    "\n",
    "l_hechos_dfcleaned = data_cleaning(l_hechos_df,\n",
    "                                    strip_spaces=True, # Eliminar espacios en blanco\n",
    "                                    lowercase_columns=columns_to_lower, # Convertir a minúsculas                                    \n",
    "                                    drop_columns=columns_to_drop,  # Eliminar columnas\n",
    "                                    fill_na=fill_na_dict, # Rellenar nulos\n",
    "                                    rename_columns=rename_dict,  # Renombrar columnas                            \n",
    "                                    replace_values=values_to_replace, # Reemplazar valores                                   \n",
    "                                    convert_to_float=columns_to_float, # Convertir a float\n",
    "                                    convert_to_int_columns=columns_to_int, #Conversión entero\n",
    "                                    categorize_columns=columns_to_categorize # Categorizar columnas\n",
    "                                   )"
   ]
  },
  {
   "cell_type": "code",
   "execution_count": 113,
   "id": "b664e8af",
   "metadata": {},
   "outputs": [
    {
     "name": "stdout",
     "output_type": "stream",
     "text": [
      "\n",
      "Cleaned DataFrame:\n"
     ]
    },
    {
     "data": {
      "text/html": [
       "<div>\n",
       "<style scoped>\n",
       "    .dataframe tbody tr th:only-of-type {\n",
       "        vertical-align: middle;\n",
       "    }\n",
       "\n",
       "    .dataframe tbody tr th {\n",
       "        vertical-align: top;\n",
       "    }\n",
       "\n",
       "    .dataframe thead th {\n",
       "        text-align: right;\n",
       "    }\n",
       "</style>\n",
       "<table border=\"1\" class=\"dataframe\">\n",
       "  <thead>\n",
       "    <tr style=\"text-align: right;\">\n",
       "      <th></th>\n",
       "      <th>id_siniestro</th>\n",
       "      <th>nro_victimas</th>\n",
       "      <th>fecha</th>\n",
       "      <th>franja_hora</th>\n",
       "      <th>comuna</th>\n",
       "      <th>tipo_calle</th>\n",
       "      <th>longitud</th>\n",
       "      <th>latitud</th>\n",
       "      <th>vehiculo_victima</th>\n",
       "      <th>vehiculo_acusado</th>\n",
       "      <th>gravedad</th>\n",
       "    </tr>\n",
       "  </thead>\n",
       "  <tbody>\n",
       "    <tr>\n",
       "      <th>0</th>\n",
       "      <td>LC-2019-0000179</td>\n",
       "      <td>1</td>\n",
       "      <td>2019-01-01 00:00:00</td>\n",
       "      <td>9</td>\n",
       "      <td>14</td>\n",
       "      <td>NaN</td>\n",
       "      <td>-58.408911</td>\n",
       "      <td>-34.559658</td>\n",
       "      <td>ciclista</td>\n",
       "      <td>NaN</td>\n",
       "      <td>leve</td>\n",
       "    </tr>\n",
       "    <tr>\n",
       "      <th>1</th>\n",
       "      <td>LC-2019-0000053</td>\n",
       "      <td>1</td>\n",
       "      <td>2019-01-01 00:00:00</td>\n",
       "      <td>1</td>\n",
       "      <td>8</td>\n",
       "      <td>NaN</td>\n",
       "      <td>-58.443510</td>\n",
       "      <td>-34.669125</td>\n",
       "      <td>auto</td>\n",
       "      <td>NaN</td>\n",
       "      <td>leve</td>\n",
       "    </tr>\n",
       "    <tr>\n",
       "      <th>2</th>\n",
       "      <td>LC-2019-0000063</td>\n",
       "      <td>1</td>\n",
       "      <td>2019-01-01 00:00:00</td>\n",
       "      <td>2</td>\n",
       "      <td>8</td>\n",
       "      <td>NaN</td>\n",
       "      <td>-58.468335</td>\n",
       "      <td>-34.677556</td>\n",
       "      <td>NaN</td>\n",
       "      <td>NaN</td>\n",
       "      <td>leve</td>\n",
       "    </tr>\n",
       "    <tr>\n",
       "      <th>3</th>\n",
       "      <td>LC-2019-0000079</td>\n",
       "      <td>1</td>\n",
       "      <td>2019-01-01 00:00:00</td>\n",
       "      <td>2</td>\n",
       "      <td>7</td>\n",
       "      <td>NaN</td>\n",
       "      <td>-58.437425</td>\n",
       "      <td>-34.647349</td>\n",
       "      <td>peaton</td>\n",
       "      <td>NaN</td>\n",
       "      <td>leve</td>\n",
       "    </tr>\n",
       "    <tr>\n",
       "      <th>4</th>\n",
       "      <td>LC-2019-0000082</td>\n",
       "      <td>4</td>\n",
       "      <td>2019-01-01 00:00:00</td>\n",
       "      <td>4</td>\n",
       "      <td>3</td>\n",
       "      <td>NaN</td>\n",
       "      <td>-58.398225</td>\n",
       "      <td>-34.604579</td>\n",
       "      <td>auto</td>\n",
       "      <td>NaN</td>\n",
       "      <td>leve</td>\n",
       "    </tr>\n",
       "  </tbody>\n",
       "</table>\n",
       "</div>"
      ],
      "text/plain": [
       "      id_siniestro  nro_victimas                fecha  franja_hora  comuna  \\\n",
       "0  LC-2019-0000179             1  2019-01-01 00:00:00            9      14   \n",
       "1  LC-2019-0000053             1  2019-01-01 00:00:00            1       8   \n",
       "2  LC-2019-0000063             1  2019-01-01 00:00:00            2       8   \n",
       "3  LC-2019-0000079             1  2019-01-01 00:00:00            2       7   \n",
       "4  LC-2019-0000082             4  2019-01-01 00:00:00            4       3   \n",
       "\n",
       "  tipo_calle   longitud    latitud vehiculo_victima vehiculo_acusado gravedad  \n",
       "0        NaN -58.408911 -34.559658         ciclista              NaN     leve  \n",
       "1        NaN -58.443510 -34.669125             auto              NaN     leve  \n",
       "2        NaN -58.468335 -34.677556              NaN              NaN     leve  \n",
       "3        NaN -58.437425 -34.647349           peaton              NaN     leve  \n",
       "4        NaN -58.398225 -34.604579             auto              NaN     leve  "
      ]
     },
     "execution_count": 113,
     "metadata": {},
     "output_type": "execute_result"
    }
   ],
   "source": [
    "print(\"\\nCleaned DataFrame:\")\n",
    "l_hechos_dfcleaned.head()"
   ]
  },
  {
   "cell_type": "markdown",
   "id": "415b8525",
   "metadata": {},
   "source": [
    "--------------------------------------------------------------------------------------------------------------------------------"
   ]
  },
  {
   "cell_type": "markdown",
   "id": "3bce56b9",
   "metadata": {},
   "source": [
    "## 3.4. Dataset: Lesiones - Víctimas"
   ]
  },
  {
   "cell_type": "code",
   "execution_count": 114,
   "id": "b91a005e",
   "metadata": {},
   "outputs": [],
   "source": [
    "# Acceder al DataFrame por nombre de hoja, Lesiones - Víctimas\n",
    "\n",
    "l_victimas_df = datos_lesiones['VICTIMAS']"
   ]
  },
  {
   "cell_type": "code",
   "execution_count": 115,
   "id": "3dc873ec",
   "metadata": {},
   "outputs": [
    {
     "name": "stdout",
     "output_type": "stream",
     "text": [
      "Original DataFrame:\n"
     ]
    },
    {
     "data": {
      "text/html": [
       "<div>\n",
       "<style scoped>\n",
       "    .dataframe tbody tr th:only-of-type {\n",
       "        vertical-align: middle;\n",
       "    }\n",
       "\n",
       "    .dataframe tbody tr th {\n",
       "        vertical-align: top;\n",
       "    }\n",
       "\n",
       "    .dataframe thead th {\n",
       "        text-align: right;\n",
       "    }\n",
       "</style>\n",
       "<table border=\"1\" class=\"dataframe\">\n",
       "  <thead>\n",
       "    <tr style=\"text-align: right;\">\n",
       "      <th></th>\n",
       "      <th>ID hecho</th>\n",
       "      <th>AAA</th>\n",
       "      <th>MM</th>\n",
       "      <th>DD</th>\n",
       "      <th>FECHA</th>\n",
       "      <th>VEHICULO_VICTIMA</th>\n",
       "      <th>SEXO</th>\n",
       "      <th>EDAD_VICTIMA</th>\n",
       "      <th>GRAVEDAD</th>\n",
       "    </tr>\n",
       "  </thead>\n",
       "  <tbody>\n",
       "    <tr>\n",
       "      <th>0</th>\n",
       "      <td>LC-2019-0000053</td>\n",
       "      <td>2019</td>\n",
       "      <td>1</td>\n",
       "      <td>1</td>\n",
       "      <td>2019-01-01</td>\n",
       "      <td>sd</td>\n",
       "      <td>Varon</td>\n",
       "      <td>57</td>\n",
       "      <td>SD</td>\n",
       "    </tr>\n",
       "    <tr>\n",
       "      <th>1</th>\n",
       "      <td>LC-2019-0000063</td>\n",
       "      <td>2019</td>\n",
       "      <td>1</td>\n",
       "      <td>1</td>\n",
       "      <td>2019-01-01</td>\n",
       "      <td>sd</td>\n",
       "      <td>SD</td>\n",
       "      <td>SD</td>\n",
       "      <td>SD</td>\n",
       "    </tr>\n",
       "    <tr>\n",
       "      <th>2</th>\n",
       "      <td>LC-2019-0000079</td>\n",
       "      <td>2019</td>\n",
       "      <td>1</td>\n",
       "      <td>1</td>\n",
       "      <td>2019-01-01</td>\n",
       "      <td>sd</td>\n",
       "      <td>Varon</td>\n",
       "      <td>SD</td>\n",
       "      <td>SD</td>\n",
       "    </tr>\n",
       "  </tbody>\n",
       "</table>\n",
       "</div>"
      ],
      "text/plain": [
       "          ID hecho   AAA  MM  DD     FECHA  VEHICULO_VICTIMA   SEXO  \\\n",
       "0  LC-2019-0000053  2019   1   1 2019-01-01               sd  Varon   \n",
       "1  LC-2019-0000063  2019   1   1 2019-01-01               sd     SD   \n",
       "2  LC-2019-0000079  2019   1   1 2019-01-01               sd  Varon   \n",
       "\n",
       "  EDAD_VICTIMA GRAVEDAD  \n",
       "0           57       SD  \n",
       "1           SD       SD  \n",
       "2           SD       SD  "
      ]
     },
     "execution_count": 115,
     "metadata": {},
     "output_type": "execute_result"
    }
   ],
   "source": [
    "# Visualiza las primeras filas del Dataframe\n",
    "\n",
    "print(\"Original DataFrame:\")\n",
    "l_victimas_df.head(3)"
   ]
  },
  {
   "cell_type": "code",
   "execution_count": 116,
   "id": "dddf9344",
   "metadata": {},
   "outputs": [
    {
     "name": "stdout",
     "output_type": "stream",
     "text": [
      "<class 'pandas.core.frame.DataFrame'>\n",
      "RangeIndex: 27605 entries, 0 to 27604\n",
      "Data columns (total 9 columns):\n",
      " #   Column            Non-Null Count  Dtype         \n",
      "---  ------            --------------  -----         \n",
      " 0   ID hecho          27605 non-null  object        \n",
      " 1   AAA               27605 non-null  int64         \n",
      " 2   MM                27605 non-null  int64         \n",
      " 3   DD                27605 non-null  int64         \n",
      " 4   FECHA             27605 non-null  datetime64[ns]\n",
      " 5   VEHICULO_VICTIMA  27605 non-null  object        \n",
      " 6   SEXO              27605 non-null  object        \n",
      " 7   EDAD_VICTIMA      27605 non-null  object        \n",
      " 8   GRAVEDAD          27605 non-null  object        \n",
      "dtypes: datetime64[ns](1), int64(3), object(5)\n",
      "memory usage: 1.9+ MB\n"
     ]
    }
   ],
   "source": [
    "# Obtener información general del DataFrame\n",
    "\n",
    "l_victimas_df.info()"
   ]
  },
  {
   "cell_type": "code",
   "execution_count": 117,
   "id": "37085ad2",
   "metadata": {},
   "outputs": [
    {
     "data": {
      "text/html": [
       "<div>\n",
       "<style scoped>\n",
       "    .dataframe tbody tr th:only-of-type {\n",
       "        vertical-align: middle;\n",
       "    }\n",
       "\n",
       "    .dataframe tbody tr th {\n",
       "        vertical-align: top;\n",
       "    }\n",
       "\n",
       "    .dataframe thead th {\n",
       "        text-align: right;\n",
       "    }\n",
       "</style>\n",
       "<table border=\"1\" class=\"dataframe\">\n",
       "  <thead>\n",
       "    <tr style=\"text-align: right;\">\n",
       "      <th></th>\n",
       "      <th>Columna</th>\n",
       "      <th>Cantidad de SD</th>\n",
       "      <th>Porcentaje de SD</th>\n",
       "    </tr>\n",
       "  </thead>\n",
       "  <tbody>\n",
       "    <tr>\n",
       "      <th>5</th>\n",
       "      <td>VEHICULO_VICTIMA</td>\n",
       "      <td>4479</td>\n",
       "      <td>16.225321</td>\n",
       "    </tr>\n",
       "    <tr>\n",
       "      <th>6</th>\n",
       "      <td>SEXO</td>\n",
       "      <td>1929</td>\n",
       "      <td>6.987865</td>\n",
       "    </tr>\n",
       "    <tr>\n",
       "      <th>7</th>\n",
       "      <td>EDAD_VICTIMA</td>\n",
       "      <td>3990</td>\n",
       "      <td>14.453903</td>\n",
       "    </tr>\n",
       "    <tr>\n",
       "      <th>8</th>\n",
       "      <td>GRAVEDAD</td>\n",
       "      <td>20722</td>\n",
       "      <td>75.066111</td>\n",
       "    </tr>\n",
       "  </tbody>\n",
       "</table>\n",
       "</div>"
      ],
      "text/plain": [
       "            Columna  Cantidad de SD  Porcentaje de SD\n",
       "5  VEHICULO_VICTIMA            4479         16.225321\n",
       "6              SEXO            1929          6.987865\n",
       "7      EDAD_VICTIMA            3990         14.453903\n",
       "8          GRAVEDAD           20722         75.066111"
      ]
     },
     "execution_count": 117,
     "metadata": {},
     "output_type": "execute_result"
    }
   ],
   "source": [
    "# Invoca la función 'analizar_valores_sd'\n",
    "\n",
    "resultados_l_victimas = analizar_valores_sd(l_victimas_df)\n",
    "resultados_l_victimas"
   ]
  },
  {
   "cell_type": "code",
   "execution_count": 118,
   "id": "ab0d7e13",
   "metadata": {},
   "outputs": [],
   "source": [
    "# Reemplazar 'SD' por NaN en todo el DataFrame\n",
    "\n",
    "l_victimas_df.replace(['SD','sd'], np.nan, inplace=True)"
   ]
  },
  {
   "cell_type": "markdown",
   "id": "8a2f6233",
   "metadata": {},
   "source": [
    "Tras verificar el diccionario de datos, identificamos que los valores \"SD\" corresponden a \"Sin datos\". Por consiguiente, tomamos la decisión de cambiar estos valores a NaN para estandarizar."
   ]
  },
  {
   "cell_type": "code",
   "execution_count": 119,
   "id": "b5ca429c",
   "metadata": {},
   "outputs": [],
   "source": [
    "# Iniciamos la preparación de los diccionarios y listas que alimentaran la función 'data_cleaning' "
   ]
  },
  {
   "cell_type": "code",
   "execution_count": 120,
   "id": "2304a9b4",
   "metadata": {},
   "outputs": [],
   "source": [
    "# Columnas para pasar a minúcula\n",
    "\n",
    "columns_to_lower = ['SEXO']"
   ]
  },
  {
   "cell_type": "markdown",
   "id": "97486e60",
   "metadata": {},
   "source": [
    "Convertir todos los datos a minúsculas evita posibles problemas de coincidencia y simplificas las operaciones de búsqueda y filtrado."
   ]
  },
  {
   "cell_type": "code",
   "execution_count": 121,
   "id": "607b2f63",
   "metadata": {},
   "outputs": [],
   "source": [
    "# Columnas para eliminar\n",
    "\n",
    "columns_to_drop = ['FECHA ','AAA', 'MM', 'DD','VEHICULO_VICTIMA','GRAVEDAD']"
   ]
  },
  {
   "cell_type": "markdown",
   "id": "5406c78e",
   "metadata": {},
   "source": [
    "Las columnas que decidimos eliminar nos parecen irrelevantes para nuestro análisis. Algunas de ellas se complementan con los datos de la hoja 'HECHO'\n"
   ]
  },
  {
   "cell_type": "code",
   "execution_count": 122,
   "id": "1cbadd4a",
   "metadata": {},
   "outputs": [],
   "source": [
    "# Renombrar columnas\n",
    "\n",
    "rename_dict = {'ID hecho': 'id_siniestro', 'SEXO': 'sexo', 'EDAD_VICTIMA': 'edad'}"
   ]
  },
  {
   "cell_type": "markdown",
   "id": "b3312403",
   "metadata": {},
   "source": [
    "Renombramos columnas para mejorar la claridad y legibilidad del conjunto de datos."
   ]
  },
  {
   "cell_type": "code",
   "execution_count": 123,
   "id": "a3720525",
   "metadata": {},
   "outputs": [],
   "source": [
    "# Reemplazar valores en columnas\n",
    "\n",
    "values_to_replace = {'sexo': {'varon': 'masculino', 'mujer': 'femenino'}}"
   ]
  },
  {
   "cell_type": "code",
   "execution_count": 124,
   "id": "380215f7",
   "metadata": {},
   "outputs": [],
   "source": [
    "# Categorización de columnas\n",
    "\n",
    "columns_to_categorize = ['sexo','edad']"
   ]
  },
  {
   "cell_type": "markdown",
   "id": "2fcffa73",
   "metadata": {},
   "source": [
    "Al convertir columnas con un conjunto limitado de valores a categorías, se puede facilitar el análisis exploratorio de datos y la comprensión de las distribuciones de esos valores."
   ]
  },
  {
   "cell_type": "code",
   "execution_count": 125,
   "id": "8ecd7149",
   "metadata": {},
   "outputs": [],
   "source": [
    "# Columnas para ser agregadas\n",
    "\n",
    "new_columns_dict = {'rol': ''}"
   ]
  },
  {
   "cell_type": "code",
   "execution_count": 126,
   "id": "3c810919",
   "metadata": {},
   "outputs": [],
   "source": [
    "# Invocamos la función 'data_cleaning' para que haga el proceso de limpieza de los datos \n",
    "\n",
    "l_victimas_dfcleaned = data_cleaning(l_victimas_df,\n",
    "                                    strip_spaces=True, # Eliminar espacios en blanco\n",
    "                                    lowercase_columns=columns_to_lower, # Convertir a minúsculas                                    \n",
    "                                    drop_columns=columns_to_drop,  # Eliminar columnas\n",
    "                                    rename_columns=rename_dict,  # Renombrar columnas \n",
    "                                    replace_values=values_to_replace, # Reemplazar valores\n",
    "                                    categorize_columns=columns_to_categorize, # Categorizar columnas\n",
    "                                    new_columns=new_columns_dict, # Agregar columnas\n",
    "                                    )"
   ]
  },
  {
   "cell_type": "code",
   "execution_count": 127,
   "id": "1df9abe0",
   "metadata": {},
   "outputs": [
    {
     "name": "stdout",
     "output_type": "stream",
     "text": [
      "\n",
      "Cleaned DataFrame:\n"
     ]
    },
    {
     "data": {
      "text/html": [
       "<div>\n",
       "<style scoped>\n",
       "    .dataframe tbody tr th:only-of-type {\n",
       "        vertical-align: middle;\n",
       "    }\n",
       "\n",
       "    .dataframe tbody tr th {\n",
       "        vertical-align: top;\n",
       "    }\n",
       "\n",
       "    .dataframe thead th {\n",
       "        text-align: right;\n",
       "    }\n",
       "</style>\n",
       "<table border=\"1\" class=\"dataframe\">\n",
       "  <thead>\n",
       "    <tr style=\"text-align: right;\">\n",
       "      <th></th>\n",
       "      <th>id_siniestro</th>\n",
       "      <th>sexo</th>\n",
       "      <th>edad</th>\n",
       "      <th>rol</th>\n",
       "    </tr>\n",
       "  </thead>\n",
       "  <tbody>\n",
       "    <tr>\n",
       "      <th>0</th>\n",
       "      <td>LC-2019-0000053</td>\n",
       "      <td>masculino</td>\n",
       "      <td>57</td>\n",
       "      <td></td>\n",
       "    </tr>\n",
       "    <tr>\n",
       "      <th>1</th>\n",
       "      <td>LC-2019-0000063</td>\n",
       "      <td>NaN</td>\n",
       "      <td>NaN</td>\n",
       "      <td></td>\n",
       "    </tr>\n",
       "    <tr>\n",
       "      <th>2</th>\n",
       "      <td>LC-2019-0000079</td>\n",
       "      <td>masculino</td>\n",
       "      <td>NaN</td>\n",
       "      <td></td>\n",
       "    </tr>\n",
       "    <tr>\n",
       "      <th>3</th>\n",
       "      <td>LC-2019-0000082</td>\n",
       "      <td>masculino</td>\n",
       "      <td>45</td>\n",
       "      <td></td>\n",
       "    </tr>\n",
       "    <tr>\n",
       "      <th>4</th>\n",
       "      <td>LC-2019-0000082</td>\n",
       "      <td>femenino</td>\n",
       "      <td>45</td>\n",
       "      <td></td>\n",
       "    </tr>\n",
       "  </tbody>\n",
       "</table>\n",
       "</div>"
      ],
      "text/plain": [
       "      id_siniestro       sexo edad rol\n",
       "0  LC-2019-0000053  masculino   57    \n",
       "1  LC-2019-0000063        NaN  NaN    \n",
       "2  LC-2019-0000079  masculino  NaN    \n",
       "3  LC-2019-0000082  masculino   45    \n",
       "4  LC-2019-0000082   femenino   45    "
      ]
     },
     "execution_count": 127,
     "metadata": {},
     "output_type": "execute_result"
    }
   ],
   "source": [
    "print(\"\\nCleaned DataFrame:\")\n",
    "l_victimas_dfcleaned.head()"
   ]
  },
  {
   "cell_type": "markdown",
   "id": "97459b70",
   "metadata": {},
   "source": [
    "## 4. Combinar Datos"
   ]
  },
  {
   "cell_type": "code",
   "execution_count": 128,
   "id": "6366e7a9",
   "metadata": {},
   "outputs": [],
   "source": [
    "# Fusionar DataFrames\n",
    "\n",
    "merged_df1 = pd.merge(h_hechos_dfcleaned, h_victimas_dfcleaned, left_on='id_siniestro', right_on='id_siniestro', how='inner')\n",
    "merged_df2 = pd.merge(l_hechos_dfcleaned, l_victimas_dfcleaned, left_on='id_siniestro', right_on='id_siniestro', how='inner')"
   ]
  },
  {
   "cell_type": "code",
   "execution_count": 129,
   "id": "85d7b0d7",
   "metadata": {},
   "outputs": [],
   "source": [
    "# Reorganizar columnas merged_df2\n",
    "\n",
    "reorden = ['id_siniestro', 'nro_victimas', 'fecha', 'franja_hora', 'tipo_calle', 'comuna', 'longitud', 'latitud', \n",
    "           'vehiculo_victima', 'vehiculo_acusado', 'rol', 'sexo', 'edad', 'gravedad']\n",
    "\n",
    "merged_df2 = merged_df2[reorden]"
   ]
  },
  {
   "cell_type": "code",
   "execution_count": 130,
   "id": "667f4c7c",
   "metadata": {},
   "outputs": [
    {
     "data": {
      "text/html": [
       "<div>\n",
       "<style scoped>\n",
       "    .dataframe tbody tr th:only-of-type {\n",
       "        vertical-align: middle;\n",
       "    }\n",
       "\n",
       "    .dataframe tbody tr th {\n",
       "        vertical-align: top;\n",
       "    }\n",
       "\n",
       "    .dataframe thead th {\n",
       "        text-align: right;\n",
       "    }\n",
       "</style>\n",
       "<table border=\"1\" class=\"dataframe\">\n",
       "  <thead>\n",
       "    <tr style=\"text-align: right;\">\n",
       "      <th></th>\n",
       "      <th>id_siniestro</th>\n",
       "      <th>nro_victimas</th>\n",
       "      <th>fecha</th>\n",
       "      <th>franja_hora</th>\n",
       "      <th>tipo_calle</th>\n",
       "      <th>comuna</th>\n",
       "      <th>longitud</th>\n",
       "      <th>latitud</th>\n",
       "      <th>vehiculo_victima</th>\n",
       "      <th>vehiculo_acusado</th>\n",
       "      <th>rol</th>\n",
       "      <th>sexo</th>\n",
       "      <th>edad</th>\n",
       "      <th>gravedad</th>\n",
       "    </tr>\n",
       "  </thead>\n",
       "  <tbody>\n",
       "    <tr>\n",
       "      <th>0</th>\n",
       "      <td>2016-0001</td>\n",
       "      <td>1</td>\n",
       "      <td>2016-01-01</td>\n",
       "      <td>4</td>\n",
       "      <td>avenida</td>\n",
       "      <td>8</td>\n",
       "      <td>-58.47533969</td>\n",
       "      <td>-34.68757022</td>\n",
       "      <td>moto</td>\n",
       "      <td>auto</td>\n",
       "      <td>conductor</td>\n",
       "      <td>masculino</td>\n",
       "      <td>19</td>\n",
       "      <td>fatal</td>\n",
       "    </tr>\n",
       "    <tr>\n",
       "      <th>1</th>\n",
       "      <td>2016-0002</td>\n",
       "      <td>1</td>\n",
       "      <td>2016-01-02</td>\n",
       "      <td>1</td>\n",
       "      <td>gral paz</td>\n",
       "      <td>9</td>\n",
       "      <td>-58.50877521</td>\n",
       "      <td>-34.66977709</td>\n",
       "      <td>auto</td>\n",
       "      <td>pasajeros</td>\n",
       "      <td>conductor</td>\n",
       "      <td>masculino</td>\n",
       "      <td>70</td>\n",
       "      <td>fatal</td>\n",
       "    </tr>\n",
       "    <tr>\n",
       "      <th>2</th>\n",
       "      <td>2016-0003</td>\n",
       "      <td>1</td>\n",
       "      <td>2016-01-03</td>\n",
       "      <td>7</td>\n",
       "      <td>avenida</td>\n",
       "      <td>1</td>\n",
       "      <td>-58.39040293</td>\n",
       "      <td>-34.63189362</td>\n",
       "      <td>moto</td>\n",
       "      <td>auto</td>\n",
       "      <td>conductor</td>\n",
       "      <td>masculino</td>\n",
       "      <td>30</td>\n",
       "      <td>fatal</td>\n",
       "    </tr>\n",
       "  </tbody>\n",
       "</table>\n",
       "</div>"
      ],
      "text/plain": [
       "  id_siniestro  nro_victimas      fecha  franja_hora tipo_calle  comuna  \\\n",
       "0    2016-0001             1 2016-01-01            4    avenida       8   \n",
       "1    2016-0002             1 2016-01-02            1   gral paz       9   \n",
       "2    2016-0003             1 2016-01-03            7    avenida       1   \n",
       "\n",
       "       longitud       latitud vehiculo_victima vehiculo_acusado        rol  \\\n",
       "0  -58.47533969  -34.68757022             moto             auto  conductor   \n",
       "1  -58.50877521  -34.66977709             auto        pasajeros  conductor   \n",
       "2  -58.39040293  -34.63189362             moto             auto  conductor   \n",
       "\n",
       "        sexo edad gravedad  \n",
       "0  masculino   19    fatal  \n",
       "1  masculino   70    fatal  \n",
       "2  masculino   30    fatal  "
      ]
     },
     "execution_count": 130,
     "metadata": {},
     "output_type": "execute_result"
    }
   ],
   "source": [
    "merged_df1.head(3)"
   ]
  },
  {
   "cell_type": "code",
   "execution_count": 131,
   "id": "c882cad5",
   "metadata": {},
   "outputs": [
    {
     "data": {
      "text/html": [
       "<div>\n",
       "<style scoped>\n",
       "    .dataframe tbody tr th:only-of-type {\n",
       "        vertical-align: middle;\n",
       "    }\n",
       "\n",
       "    .dataframe tbody tr th {\n",
       "        vertical-align: top;\n",
       "    }\n",
       "\n",
       "    .dataframe thead th {\n",
       "        text-align: right;\n",
       "    }\n",
       "</style>\n",
       "<table border=\"1\" class=\"dataframe\">\n",
       "  <thead>\n",
       "    <tr style=\"text-align: right;\">\n",
       "      <th></th>\n",
       "      <th>id_siniestro</th>\n",
       "      <th>nro_victimas</th>\n",
       "      <th>fecha</th>\n",
       "      <th>franja_hora</th>\n",
       "      <th>tipo_calle</th>\n",
       "      <th>comuna</th>\n",
       "      <th>longitud</th>\n",
       "      <th>latitud</th>\n",
       "      <th>vehiculo_victima</th>\n",
       "      <th>vehiculo_acusado</th>\n",
       "      <th>rol</th>\n",
       "      <th>sexo</th>\n",
       "      <th>edad</th>\n",
       "      <th>gravedad</th>\n",
       "    </tr>\n",
       "  </thead>\n",
       "  <tbody>\n",
       "    <tr>\n",
       "      <th>0</th>\n",
       "      <td>LC-2019-0000179</td>\n",
       "      <td>1</td>\n",
       "      <td>2019-01-01 00:00:00</td>\n",
       "      <td>9</td>\n",
       "      <td>NaN</td>\n",
       "      <td>14</td>\n",
       "      <td>-58.408911</td>\n",
       "      <td>-34.559658</td>\n",
       "      <td>ciclista</td>\n",
       "      <td>NaN</td>\n",
       "      <td></td>\n",
       "      <td>NaN</td>\n",
       "      <td>NaN</td>\n",
       "      <td>leve</td>\n",
       "    </tr>\n",
       "    <tr>\n",
       "      <th>1</th>\n",
       "      <td>LC-2019-0000053</td>\n",
       "      <td>1</td>\n",
       "      <td>2019-01-01 00:00:00</td>\n",
       "      <td>1</td>\n",
       "      <td>NaN</td>\n",
       "      <td>8</td>\n",
       "      <td>-58.443510</td>\n",
       "      <td>-34.669125</td>\n",
       "      <td>auto</td>\n",
       "      <td>NaN</td>\n",
       "      <td></td>\n",
       "      <td>masculino</td>\n",
       "      <td>57</td>\n",
       "      <td>leve</td>\n",
       "    </tr>\n",
       "    <tr>\n",
       "      <th>2</th>\n",
       "      <td>LC-2019-0000063</td>\n",
       "      <td>1</td>\n",
       "      <td>2019-01-01 00:00:00</td>\n",
       "      <td>2</td>\n",
       "      <td>NaN</td>\n",
       "      <td>8</td>\n",
       "      <td>-58.468335</td>\n",
       "      <td>-34.677556</td>\n",
       "      <td>NaN</td>\n",
       "      <td>NaN</td>\n",
       "      <td></td>\n",
       "      <td>NaN</td>\n",
       "      <td>NaN</td>\n",
       "      <td>leve</td>\n",
       "    </tr>\n",
       "  </tbody>\n",
       "</table>\n",
       "</div>"
      ],
      "text/plain": [
       "      id_siniestro  nro_victimas                fecha  franja_hora tipo_calle  \\\n",
       "0  LC-2019-0000179             1  2019-01-01 00:00:00            9        NaN   \n",
       "1  LC-2019-0000053             1  2019-01-01 00:00:00            1        NaN   \n",
       "2  LC-2019-0000063             1  2019-01-01 00:00:00            2        NaN   \n",
       "\n",
       "   comuna   longitud    latitud vehiculo_victima vehiculo_acusado rol  \\\n",
       "0      14 -58.408911 -34.559658         ciclista              NaN       \n",
       "1       8 -58.443510 -34.669125             auto              NaN       \n",
       "2       8 -58.468335 -34.677556              NaN              NaN       \n",
       "\n",
       "        sexo edad gravedad  \n",
       "0        NaN  NaN     leve  \n",
       "1  masculino   57     leve  \n",
       "2        NaN  NaN     leve  "
      ]
     },
     "execution_count": 131,
     "metadata": {},
     "output_type": "execute_result"
    }
   ],
   "source": [
    "merged_df2.head(3)"
   ]
  },
  {
   "cell_type": "markdown",
   "id": "2a92e97c",
   "metadata": {},
   "source": [
    "## 6. Almacenamiento de Datos"
   ]
  },
  {
   "cell_type": "code",
   "execution_count": 132,
   "id": "5bd49f53",
   "metadata": {},
   "outputs": [],
   "source": [
    "# Almacenar los DataFrames finales en un nuevo archivo CSV\n",
    "\n",
    "merged_df1.to_csv('homicidios_cleaned.csv', index=False)\n",
    "merged_df2.to_csv('lesiones_cleaned.csv', index=False)"
   ]
  },
  {
   "cell_type": "code",
   "execution_count": null,
   "id": "38cbaaee",
   "metadata": {},
   "outputs": [],
   "source": []
  }
 ],
 "metadata": {
  "kernelspec": {
   "display_name": "Python 3 (ipykernel)",
   "language": "python",
   "name": "python3"
  },
  "language_info": {
   "codemirror_mode": {
    "name": "ipython",
    "version": 3
   },
   "file_extension": ".py",
   "mimetype": "text/x-python",
   "name": "python",
   "nbconvert_exporter": "python",
   "pygments_lexer": "ipython3",
   "version": "3.10.9"
  }
 },
 "nbformat": 4,
 "nbformat_minor": 5
}
