{
 "cells": [
  {
   "cell_type": "markdown",
   "id": "1e3030ef",
   "metadata": {},
   "source": [
    "# KPI (Key Performance Indicator)"
   ]
  },
  {
   "cell_type": "markdown",
   "id": "1fea176d",
   "metadata": {},
   "source": []
  },
  {
   "cell_type": "markdown",
   "id": "73174785",
   "metadata": {},
   "source": [
    "A continuación los KPI's propuestos por Henry.\n",
    "\n",
    "- **1. Reducir en un 10% la tasa de homicidios en siniestros viales de los últimos seis meses (fecha), en CABA, en comparación con la tasa de homicidios en siniestros viales del semestre anterior.**\n",
    "\n",
    "Definimos a la tasa de homicidios en siniestros viales como el número de víctimas fatales en accidentes de tránsito por cada 100,000 habitantes en un área geográfica durante un período de tiempo específico. Su fórmula es: (Número de homicidios en siniestros viales / Población total) * 100,000\n",
    "\n",
    "- **2. Reducir en un 7% la cantidad de accidentes mortales de motociclistas en el último año, en CABA, respecto al año anterior.**\n",
    "\n",
    "Definimos a la cantidad de accidentes mortales de motociclistas en siniestros viales como el número absoluto de accidentes fatales en los que estuvieron involucradas víctimas que viajaban en moto en un determinado periodo temporal. Su fórmula para medir la evolución de los accidentes mortales con víctimas en moto es: (Número de accidentes mortales con víctimas en moto en el año anterior - Número de accidentes mortales con víctimas en moto en el año actual) / (Número de accidentes mortales con víctimas en moto en el año anterior) * 100"
   ]
  },
  {
   "cell_type": "markdown",
   "id": "6324a792",
   "metadata": {},
   "source": [
    "Según la rúbrica de evaluación se debe utilizar como mínimo 1 de los KPI´s anteriormente mencionado el cual debe integrarse en el dashboard del proyecto de análisis de datos.\n",
    "\n",
    "**Rúbrica de evaluación:** https://docs.google.com/spreadsheets/d/e/2PACX-1vTV3zL1aeGRlbXkiy5012GWbDBMseA4iziMXs597TZfgaYgazjxZDx_-q6L4s9io3JW4UPHcZs_XNyz/pubhtml\n",
    "        "
   ]
  },
  {
   "cell_type": "markdown",
   "id": "651c8e96",
   "metadata": {},
   "source": [
    "--------------------------------------------------------------------------------------------------------------------------------"
   ]
  },
  {
   "cell_type": "markdown",
   "id": "d863b15b",
   "metadata": {},
   "source": [
    "# Ficha Técnica del KPI: Reducción en un 7% de Accidentes Mortales de Motociclistas en CABA"
   ]
  },
  {
   "cell_type": "markdown",
   "id": "f080d4a4",
   "metadata": {},
   "source": [
    "## Objetivo del KPI"
   ]
  },
  {
   "cell_type": "markdown",
   "id": "ec8b8073",
   "metadata": {},
   "source": [
    "El KPI tiene como objetivo medir la efectividad de las medidas de seguridad implementadas, enfocándose en la reducción de accidentes mortales de motociclistas en CABA (Ciudad Autónoma de Buenos Aires). La meta específica es lograr una disminución del 7% en el número de estos accidentes en el último año en comparación con el año anterior."
   ]
  },
  {
   "cell_type": "markdown",
   "id": "acdcc334",
   "metadata": {},
   "source": [
    "## Justificación"
   ]
  },
  {
   "cell_type": "markdown",
   "id": "a7ebc81f",
   "metadata": {},
   "source": [
    "La elección de este KPI se fundamenta en:\n",
    "\n",
    "- **Relevancia del Problema:**\n",
    "Los accidentes mortales de motociclistas representan una proporción significativa de siniestros viales en CABA, contribuyendo a las estadísticas generales de víctimas fatales en accidentes de tránsito.\n",
    "\n",
    "- **Enfoque en la Seguridad de un Grupo Vulnerable:**\n",
    "Los motociclistas suelen ser un grupo vulnerable en la vía pública. La implementación de medidas específicas para reducir la mortalidad de este grupo contribuye a mejorar la seguridad vial.\n",
    "\n",
    "- **Impacto Social:**\n",
    "La reducción de accidentes mortales no solo tiene implicaciones en términos de seguridad vial, sino que también tiene un impacto directo en la sociedad al disminuir la pérdida de vidas y minimizar el sufrimiento de las familias afectadas.\n",
    "\n",
    "- **Bases Estadísticas:**\n",
    "El análisis de las estadísticas existentes revela que los accidentes mortales de motociclistas son un problema relevante. Estos eventos se han analizado previamente, y existe una necesidad clara de mejorar las condiciones de seguridad para este grupo."
   ]
  },
  {
   "cell_type": "markdown",
   "id": "23c58f96",
   "metadata": {},
   "source": [
    "## Datos Utilizados"
   ]
  },
  {
   "cell_type": "markdown",
   "id": "b5a49308",
   "metadata": {},
   "source": [
    "- **Gravedad del Siniestro:**\n",
    "Se limita a los accidentes clasificados como \"fatal\".\n",
    "\n",
    "- **Vehículo de la Víctima:**\n",
    "Restringido a casos en los que la víctima viajaba en moto.\n",
    "\n",
    "- **Ubicación Geográfica:**\n",
    "Se enfoca exclusivamente en la Ciudad Autónoma de Buenos Aires (CABA).\n",
    "\n",
    "- **Año de Registro:**\n",
    "Se comparan los datos del año anterior con el año actual."
   ]
  },
  {
   "cell_type": "markdown",
   "id": "3aabc051",
   "metadata": {},
   "source": [
    "## Fórmula del KPI"
   ]
  },
  {
   "cell_type": "markdown",
   "id": "37f4fbeb",
   "metadata": {},
   "source": [
    "La fórmula para calcular la reducción porcentual es:"
   ]
  },
  {
   "cell_type": "markdown",
   "id": "e7424d7e",
   "metadata": {},
   "source": [
    "$Reducción\\ porcentual = \\left( \\frac{Número\\ de\\ accidentes\\ mortales\\ de\\ motociclistas\\ en\\ el\\ año\\ anterior - Número\\ de\\ accidentes\\ mortales\\ de\\ motociclistas\\ en\\ el\\ año\\ actual}{Número\\ de\\ accidentes\\ mortales\\ de\\ motociclistas\\ en\\ el\\ año\\ anterior} \\right) \\times 100$"
   ]
  },
  {
   "cell_type": "markdown",
   "id": "63a92f21",
   "metadata": {},
   "source": [
    "En esta fórmula:\n",
    "\n",
    "- **Número de accidentes mortales de motociclistas en el año anterior:** \n",
    "Representa la cantidad de accidentes mortales de motociclistas registrados en el año anterior al período de análisis.\n",
    "\n",
    "- **Número de accidentes mortales de motociclistas en el año actual:** \n",
    "Representa la cantidad de accidentes mortales de motociclistas registrados en el año actual o en el período de análisis. \n",
    "\n",
    "La fórmula calcula la diferencia entre el número de accidentes mortales de motociclistas en ambos años, divide esa diferencia por el número de accidentes mortales de motociclistas en el año anterior, y luego multiplica el resultado por 100 para expresar la reducción como un porcentaje."
   ]
  },
  {
   "cell_type": "markdown",
   "id": "e0ef9473",
   "metadata": {},
   "source": [
    "## Pasos Metodológicos"
   ]
  },
  {
   "cell_type": "markdown",
   "id": "59e79169",
   "metadata": {},
   "source": [
    "- **Identificación de Años Relevantes:**\n",
    "Determinar los años específicos relevantes para el análisis comparativo.\n",
    "\n",
    "- **Recopilación de Datos:**\n",
    "Obtener el número de accidentes mortales de motociclistas para el año anterior y el año actual en CABA.\n",
    "\n",
    "- **Cálculo de la Reducción porcentual:**\n",
    "Aplicar la fórmula del KPI para obtener el porcentaje de reducción.\n",
    "\n",
    "- **Interpretación del Resultado:**\n",
    "Evaluar si la reducción porcentual alcanza o supera el objetivo del 7%."
   ]
  },
  {
   "cell_type": "markdown",
   "id": "0f9e90a7",
   "metadata": {},
   "source": [
    "## Consideraciones Adicionales"
   ]
  },
  {
   "cell_type": "markdown",
   "id": "14669be4",
   "metadata": {},
   "source": [
    "- **Comparación Directa:**\n",
    "El KPI compara únicamente dos años consecutivos para evaluar la tendencia a corto plazo.\n",
    "\n",
    "- **Enfoque Geográfico Específico:**\n",
    "El análisis se concentra en CABA para una evaluación más localizada y específica.\n",
    "\n",
    "- **Revisión Regular:**\n",
    "Se recomienda realizar revisiones regulares para evaluar la sostenibilidad de la reducción a lo largo del tiempo.\n",
    "\n",
    "- **Observaciones Técnicas:**\n",
    "Para resolver el KPI directamente se estructuró una consulta SQL en la base de datos MySQL que calcule la reducción porcentual en la cantidad de accidentes mortales de motociclistas en CABA, tal como definimos previamente. Considerando que el KPI se actualice regularmente, decidí mantener un historial guardando los resultados en una tabla de resumen que luego conecta con Power BI. Esto facilitará la actualización de datos en Power BI sin tener que ejecutar la consulta cada vez.\n",
    "\n",
    "    **Base de Datos MySQL:** db_pi_da\n",
    "\n",
    "    **Consulta SQL:** kpi_reduccion_mortales_motos"
   ]
  },
  {
   "cell_type": "markdown",
   "id": "d9a4b5cd",
   "metadata": {},
   "source": [
    "La implementación de este KPI permitirá una evaluación sistemática y cuantificable de los esfuerzos realizados para mejorar la seguridad de los motociclistas en CABA, proporcionando una base objetiva para la toma de decisiones y la planificación futura de intervenciones en seguridad vial."
   ]
  },
  {
   "cell_type": "code",
   "execution_count": null,
   "id": "3f4153ff",
   "metadata": {},
   "outputs": [],
   "source": []
  },
  {
   "cell_type": "code",
   "execution_count": null,
   "id": "731f03b7",
   "metadata": {},
   "outputs": [],
   "source": []
  },
  {
   "cell_type": "code",
   "execution_count": null,
   "id": "b1efcf05",
   "metadata": {},
   "outputs": [],
   "source": []
  },
  {
   "cell_type": "code",
   "execution_count": null,
   "id": "fb7ed543",
   "metadata": {},
   "outputs": [],
   "source": []
  },
  {
   "cell_type": "code",
   "execution_count": null,
   "id": "11d00f23",
   "metadata": {},
   "outputs": [],
   "source": []
  },
  {
   "cell_type": "code",
   "execution_count": null,
   "id": "ba6944b8",
   "metadata": {},
   "outputs": [],
   "source": []
  },
  {
   "cell_type": "code",
   "execution_count": null,
   "id": "d88c857a",
   "metadata": {},
   "outputs": [],
   "source": []
  },
  {
   "cell_type": "code",
   "execution_count": null,
   "id": "e446a6b6",
   "metadata": {},
   "outputs": [],
   "source": []
  },
  {
   "cell_type": "code",
   "execution_count": null,
   "id": "cad80275",
   "metadata": {},
   "outputs": [],
   "source": []
  },
  {
   "cell_type": "code",
   "execution_count": null,
   "id": "8016fcf7",
   "metadata": {},
   "outputs": [],
   "source": []
  },
  {
   "cell_type": "code",
   "execution_count": null,
   "id": "9e772925",
   "metadata": {},
   "outputs": [],
   "source": []
  }
 ],
 "metadata": {
  "kernelspec": {
   "display_name": "Python 3 (ipykernel)",
   "language": "python",
   "name": "python3"
  },
  "language_info": {
   "codemirror_mode": {
    "name": "ipython",
    "version": 3
   },
   "file_extension": ".py",
   "mimetype": "text/x-python",
   "name": "python",
   "nbconvert_exporter": "python",
   "pygments_lexer": "ipython3",
   "version": "3.10.9"
  }
 },
 "nbformat": 4,
 "nbformat_minor": 5
}
